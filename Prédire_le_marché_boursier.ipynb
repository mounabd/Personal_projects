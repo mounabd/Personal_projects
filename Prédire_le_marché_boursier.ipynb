{
  "nbformat": 4,
  "nbformat_minor": 0,
  "metadata": {
    "colab": {
      "name": "Prédire le marché boursier.ipynb",
      "provenance": [],
      "collapsed_sections": [],
      "toc_visible": true,
      "authorship_tag": "ABX9TyPpIKg8nQiEDotBOiMoGtzg",
      "include_colab_link": true
    },
    "kernelspec": {
      "name": "python3",
      "display_name": "Python 3"
    }
  },
  "cells": [
    {
      "cell_type": "markdown",
      "metadata": {
        "id": "view-in-github",
        "colab_type": "text"
      },
      "source": [
        "<a href=\"https://colab.research.google.com/github/mounabd/Personal_projects/blob/main/Pr%C3%A9dire_le_march%C3%A9_boursier.ipynb\" target=\"_parent\"><img src=\"https://colab.research.google.com/assets/colab-badge.svg\" alt=\"Open In Colab\"/></a>"
      ]
    },
    {
      "cell_type": "markdown",
      "metadata": {
        "id": "PWenn2rxTtaw"
      },
      "source": [
        "A retenir : \n",
        "- shift \n",
        "- dropna après rolling"
      ]
    },
    {
      "cell_type": "code",
      "metadata": {
        "colab": {
          "base_uri": "https://localhost:8080/"
        },
        "id": "fW1E8z9QE6qg",
        "outputId": "cd6cef1f-1a10-46b4-922b-ff521fedafab"
      },
      "source": [
        "import pandas as pd\n",
        "import numpy as np\n",
        "import seaborn as sns\n",
        "import matplotlib.pyplot as plt\n",
        "from datetime import datetime \n",
        "\n",
        "%matplotlib inline\n",
        "\n",
        "from google.colab import drive\n",
        "drive.mount('/content/drive') "
      ],
      "execution_count": null,
      "outputs": [
        {
          "output_type": "stream",
          "text": [
            "Mounted at /content/drive\n"
          ],
          "name": "stdout"
        }
      ]
    },
    {
      "cell_type": "code",
      "metadata": {
        "colab": {
          "base_uri": "https://localhost:8080/",
          "height": 223
        },
        "id": "3ZEHiFirFFZg",
        "outputId": "a29a7e36-2224-4c1f-a58d-f9a5f55e6bf8"
      },
      "source": [
        "df = pd.read_csv('/content/drive/MyDrive/Colab Notebooks/Udemy/sphist.csv', engine = 'python', index_col = 'Date')\n",
        "df.head()"
      ],
      "execution_count": null,
      "outputs": [
        {
          "output_type": "execute_result",
          "data": {
            "text/html": [
              "<div>\n",
              "<style scoped>\n",
              "    .dataframe tbody tr th:only-of-type {\n",
              "        vertical-align: middle;\n",
              "    }\n",
              "\n",
              "    .dataframe tbody tr th {\n",
              "        vertical-align: top;\n",
              "    }\n",
              "\n",
              "    .dataframe thead th {\n",
              "        text-align: right;\n",
              "    }\n",
              "</style>\n",
              "<table border=\"1\" class=\"dataframe\">\n",
              "  <thead>\n",
              "    <tr style=\"text-align: right;\">\n",
              "      <th></th>\n",
              "      <th>Open</th>\n",
              "      <th>High</th>\n",
              "      <th>Low</th>\n",
              "      <th>Close</th>\n",
              "      <th>Volume</th>\n",
              "      <th>Adj Close</th>\n",
              "    </tr>\n",
              "    <tr>\n",
              "      <th>Date</th>\n",
              "      <th></th>\n",
              "      <th></th>\n",
              "      <th></th>\n",
              "      <th></th>\n",
              "      <th></th>\n",
              "      <th></th>\n",
              "    </tr>\n",
              "  </thead>\n",
              "  <tbody>\n",
              "    <tr>\n",
              "      <th>2015-12-07</th>\n",
              "      <td>2090.419922</td>\n",
              "      <td>2090.419922</td>\n",
              "      <td>2066.780029</td>\n",
              "      <td>2077.070068</td>\n",
              "      <td>4.043820e+09</td>\n",
              "      <td>2077.070068</td>\n",
              "    </tr>\n",
              "    <tr>\n",
              "      <th>2015-12-04</th>\n",
              "      <td>2051.239990</td>\n",
              "      <td>2093.840088</td>\n",
              "      <td>2051.239990</td>\n",
              "      <td>2091.689941</td>\n",
              "      <td>4.214910e+09</td>\n",
              "      <td>2091.689941</td>\n",
              "    </tr>\n",
              "    <tr>\n",
              "      <th>2015-12-03</th>\n",
              "      <td>2080.709961</td>\n",
              "      <td>2085.000000</td>\n",
              "      <td>2042.349976</td>\n",
              "      <td>2049.620117</td>\n",
              "      <td>4.306490e+09</td>\n",
              "      <td>2049.620117</td>\n",
              "    </tr>\n",
              "    <tr>\n",
              "      <th>2015-12-02</th>\n",
              "      <td>2101.709961</td>\n",
              "      <td>2104.270020</td>\n",
              "      <td>2077.110107</td>\n",
              "      <td>2079.510010</td>\n",
              "      <td>3.950640e+09</td>\n",
              "      <td>2079.510010</td>\n",
              "    </tr>\n",
              "    <tr>\n",
              "      <th>2015-12-01</th>\n",
              "      <td>2082.929932</td>\n",
              "      <td>2103.370117</td>\n",
              "      <td>2082.929932</td>\n",
              "      <td>2102.629883</td>\n",
              "      <td>3.712120e+09</td>\n",
              "      <td>2102.629883</td>\n",
              "    </tr>\n",
              "  </tbody>\n",
              "</table>\n",
              "</div>"
            ],
            "text/plain": [
              "                   Open         High  ...        Volume    Adj Close\n",
              "Date                                  ...                           \n",
              "2015-12-07  2090.419922  2090.419922  ...  4.043820e+09  2077.070068\n",
              "2015-12-04  2051.239990  2093.840088  ...  4.214910e+09  2091.689941\n",
              "2015-12-03  2080.709961  2085.000000  ...  4.306490e+09  2049.620117\n",
              "2015-12-02  2101.709961  2104.270020  ...  3.950640e+09  2079.510010\n",
              "2015-12-01  2082.929932  2103.370117  ...  3.712120e+09  2102.629883\n",
              "\n",
              "[5 rows x 6 columns]"
            ]
          },
          "metadata": {
            "tags": []
          },
          "execution_count": 2
        }
      ]
    },
    {
      "cell_type": "code",
      "metadata": {
        "colab": {
          "base_uri": "https://localhost:8080/"
        },
        "id": "7CJC_ExOyG5z",
        "outputId": "f9d8c078-0543-4161-8b7c-eda0582b981b"
      },
      "source": [
        "df.info()"
      ],
      "execution_count": null,
      "outputs": [
        {
          "output_type": "stream",
          "text": [
            "<class 'pandas.core.frame.DataFrame'>\n",
            "Index: 16590 entries, 2015-12-07 to 1950-01-03\n",
            "Data columns (total 6 columns):\n",
            " #   Column     Non-Null Count  Dtype  \n",
            "---  ------     --------------  -----  \n",
            " 0   Open       16590 non-null  float64\n",
            " 1   High       16590 non-null  float64\n",
            " 2   Low        16590 non-null  float64\n",
            " 3   Close      16590 non-null  float64\n",
            " 4   Volume     16590 non-null  float64\n",
            " 5   Adj Close  16590 non-null  float64\n",
            "dtypes: float64(6)\n",
            "memory usage: 1.5+ MB\n"
          ],
          "name": "stdout"
        }
      ]
    },
    {
      "cell_type": "code",
      "metadata": {
        "colab": {
          "base_uri": "https://localhost:8080/"
        },
        "id": "mMFbH4cOyLP-",
        "outputId": "b813e70d-e11c-4b7a-afc6-73d31974b90d"
      },
      "source": [
        "type(df.index[0])"
      ],
      "execution_count": null,
      "outputs": [
        {
          "output_type": "execute_result",
          "data": {
            "text/plain": [
              "str"
            ]
          },
          "metadata": {
            "tags": []
          },
          "execution_count": 5
        }
      ]
    },
    {
      "cell_type": "code",
      "metadata": {
        "colab": {
          "base_uri": "https://localhost:8080/"
        },
        "id": "5pBb9G2cF6GJ",
        "outputId": "bc4ed94d-5a2d-4559-af15-1ef595de8208"
      },
      "source": [
        "df.index = pd.to_datetime(df.index)\n",
        "df.index"
      ],
      "execution_count": null,
      "outputs": [
        {
          "output_type": "execute_result",
          "data": {
            "text/plain": [
              "DatetimeIndex(['2015-12-07', '2015-12-04', '2015-12-03', '2015-12-02',\n",
              "               '2015-12-01', '2015-11-30', '2015-11-27', '2015-11-25',\n",
              "               '2015-11-24', '2015-11-23',\n",
              "               ...\n",
              "               '1950-01-16', '1950-01-13', '1950-01-12', '1950-01-11',\n",
              "               '1950-01-10', '1950-01-09', '1950-01-06', '1950-01-05',\n",
              "               '1950-01-04', '1950-01-03'],\n",
              "              dtype='datetime64[ns]', name='Date', length=16590, freq=None)"
            ]
          },
          "metadata": {
            "tags": []
          },
          "execution_count": 53
        }
      ]
    },
    {
      "cell_type": "code",
      "metadata": {
        "colab": {
          "base_uri": "https://localhost:8080/"
        },
        "id": "zvWYXqynFtbf",
        "outputId": "78c55289-3d06-4a93-ae5d-724954758811"
      },
      "source": [
        "df.info()"
      ],
      "execution_count": null,
      "outputs": [
        {
          "output_type": "stream",
          "text": [
            "<class 'pandas.core.frame.DataFrame'>\n",
            "DatetimeIndex: 16590 entries, 2015-12-07 to 1950-01-03\n",
            "Data columns (total 6 columns):\n",
            " #   Column     Non-Null Count  Dtype  \n",
            "---  ------     --------------  -----  \n",
            " 0   Open       16590 non-null  float64\n",
            " 1   High       16590 non-null  float64\n",
            " 2   Low        16590 non-null  float64\n",
            " 3   Close      16590 non-null  float64\n",
            " 4   Volume     16590 non-null  float64\n",
            " 5   Adj Close  16590 non-null  float64\n",
            "dtypes: float64(6)\n",
            "memory usage: 907.3 KB\n"
          ],
          "name": "stdout"
        }
      ]
    },
    {
      "cell_type": "code",
      "metadata": {
        "colab": {
          "base_uri": "https://localhost:8080/",
          "height": 383
        },
        "id": "ogyC1DCWFwV7",
        "outputId": "cd7cba1c-b114-419b-94bc-3efe5b04337f"
      },
      "source": [
        "df['Close'].plot(figsize = (8,6))\n",
        "plt.title('Sphist');"
      ],
      "execution_count": null,
      "outputs": [
        {
          "output_type": "display_data",
          "data": {
            "image/png": "[encoded data removed]",
            "text/plain": [
              "<Figure size 576x432 with 1 Axes>"
            ]
          },
          "metadata": {
            "tags": [],
            "needs_background": "light"
          }
        }
      ]
    },
    {
      "cell_type": "code",
      "metadata": {
        "colab": {
          "base_uri": "https://localhost:8080/",
          "height": 223
        },
        "id": "1udXFqXEGUNN",
        "outputId": "cd8fb1e2-b980-4536-aed8-963f8e854f54"
      },
      "source": [
        "df = df.sort_values(axis = 0, by='Date')\n",
        "df.head()"
      ],
      "execution_count": null,
      "outputs": [
        {
          "output_type": "execute_result",
          "data": {
            "text/html": [
              "<div>\n",
              "<style scoped>\n",
              "    .dataframe tbody tr th:only-of-type {\n",
              "        vertical-align: middle;\n",
              "    }\n",
              "\n",
              "    .dataframe tbody tr th {\n",
              "        vertical-align: top;\n",
              "    }\n",
              "\n",
              "    .dataframe thead th {\n",
              "        text-align: right;\n",
              "    }\n",
              "</style>\n",
              "<table border=\"1\" class=\"dataframe\">\n",
              "  <thead>\n",
              "    <tr style=\"text-align: right;\">\n",
              "      <th></th>\n",
              "      <th>Open</th>\n",
              "      <th>High</th>\n",
              "      <th>Low</th>\n",
              "      <th>Close</th>\n",
              "      <th>Volume</th>\n",
              "      <th>Adj Close</th>\n",
              "    </tr>\n",
              "    <tr>\n",
              "      <th>Date</th>\n",
              "      <th></th>\n",
              "      <th></th>\n",
              "      <th></th>\n",
              "      <th></th>\n",
              "      <th></th>\n",
              "      <th></th>\n",
              "    </tr>\n",
              "  </thead>\n",
              "  <tbody>\n",
              "    <tr>\n",
              "      <th>1950-01-03</th>\n",
              "      <td>16.66</td>\n",
              "      <td>16.66</td>\n",
              "      <td>16.66</td>\n",
              "      <td>16.66</td>\n",
              "      <td>1260000.0</td>\n",
              "      <td>16.66</td>\n",
              "    </tr>\n",
              "    <tr>\n",
              "      <th>1950-01-04</th>\n",
              "      <td>16.85</td>\n",
              "      <td>16.85</td>\n",
              "      <td>16.85</td>\n",
              "      <td>16.85</td>\n",
              "      <td>1890000.0</td>\n",
              "      <td>16.85</td>\n",
              "    </tr>\n",
              "    <tr>\n",
              "      <th>1950-01-05</th>\n",
              "      <td>16.93</td>\n",
              "      <td>16.93</td>\n",
              "      <td>16.93</td>\n",
              "      <td>16.93</td>\n",
              "      <td>2550000.0</td>\n",
              "      <td>16.93</td>\n",
              "    </tr>\n",
              "    <tr>\n",
              "      <th>1950-01-06</th>\n",
              "      <td>16.98</td>\n",
              "      <td>16.98</td>\n",
              "      <td>16.98</td>\n",
              "      <td>16.98</td>\n",
              "      <td>2010000.0</td>\n",
              "      <td>16.98</td>\n",
              "    </tr>\n",
              "    <tr>\n",
              "      <th>1950-01-09</th>\n",
              "      <td>17.08</td>\n",
              "      <td>17.08</td>\n",
              "      <td>17.08</td>\n",
              "      <td>17.08</td>\n",
              "      <td>2520000.0</td>\n",
              "      <td>17.08</td>\n",
              "    </tr>\n",
              "  </tbody>\n",
              "</table>\n",
              "</div>"
            ],
            "text/plain": [
              "             Open   High    Low  Close     Volume  Adj Close\n",
              "Date                                                        \n",
              "1950-01-03  16.66  16.66  16.66  16.66  1260000.0      16.66\n",
              "1950-01-04  16.85  16.85  16.85  16.85  1890000.0      16.85\n",
              "1950-01-05  16.93  16.93  16.93  16.93  2550000.0      16.93\n",
              "1950-01-06  16.98  16.98  16.98  16.98  2010000.0      16.98\n",
              "1950-01-09  17.08  17.08  17.08  17.08  2520000.0      17.08"
            ]
          },
          "metadata": {
            "tags": []
          },
          "execution_count": 56
        }
      ]
    },
    {
      "cell_type": "code",
      "metadata": {
        "colab": {
          "base_uri": "https://localhost:8080/",
          "height": 223
        },
        "id": "x8_oCsR_GIeQ",
        "outputId": "d45e7104-c668-45c5-d37d-296b2c35efac"
      },
      "source": [
        "df['MA 5 Close'] = df['Close'].rolling(5).mean()\n",
        "df['MA 30 Close'] = df['Close'].rolling(30).mean()\n",
        "df['MA 365 Close'] = df['Close'].rolling(365).mean()\n",
        "df.head()"
      ],
      "execution_count": null,
      "outputs": [
        {
          "output_type": "execute_result",
          "data": {
            "text/html": [
              "<div>\n",
              "<style scoped>\n",
              "    .dataframe tbody tr th:only-of-type {\n",
              "        vertical-align: middle;\n",
              "    }\n",
              "\n",
              "    .dataframe tbody tr th {\n",
              "        vertical-align: top;\n",
              "    }\n",
              "\n",
              "    .dataframe thead th {\n",
              "        text-align: right;\n",
              "    }\n",
              "</style>\n",
              "<table border=\"1\" class=\"dataframe\">\n",
              "  <thead>\n",
              "    <tr style=\"text-align: right;\">\n",
              "      <th></th>\n",
              "      <th>Open</th>\n",
              "      <th>High</th>\n",
              "      <th>Low</th>\n",
              "      <th>Close</th>\n",
              "      <th>Volume</th>\n",
              "      <th>Adj Close</th>\n",
              "      <th>MA 5 Close</th>\n",
              "      <th>MA 30 Close</th>\n",
              "      <th>MA 365 Close</th>\n",
              "    </tr>\n",
              "    <tr>\n",
              "      <th>Date</th>\n",
              "      <th></th>\n",
              "      <th></th>\n",
              "      <th></th>\n",
              "      <th></th>\n",
              "      <th></th>\n",
              "      <th></th>\n",
              "      <th></th>\n",
              "      <th></th>\n",
              "      <th></th>\n",
              "    </tr>\n",
              "  </thead>\n",
              "  <tbody>\n",
              "    <tr>\n",
              "      <th>1950-01-03</th>\n",
              "      <td>16.66</td>\n",
              "      <td>16.66</td>\n",
              "      <td>16.66</td>\n",
              "      <td>16.66</td>\n",
              "      <td>1260000.0</td>\n",
              "      <td>16.66</td>\n",
              "      <td>NaN</td>\n",
              "      <td>NaN</td>\n",
              "      <td>NaN</td>\n",
              "    </tr>\n",
              "    <tr>\n",
              "      <th>1950-01-04</th>\n",
              "      <td>16.85</td>\n",
              "      <td>16.85</td>\n",
              "      <td>16.85</td>\n",
              "      <td>16.85</td>\n",
              "      <td>1890000.0</td>\n",
              "      <td>16.85</td>\n",
              "      <td>NaN</td>\n",
              "      <td>NaN</td>\n",
              "      <td>NaN</td>\n",
              "    </tr>\n",
              "    <tr>\n",
              "      <th>1950-01-05</th>\n",
              "      <td>16.93</td>\n",
              "      <td>16.93</td>\n",
              "      <td>16.93</td>\n",
              "      <td>16.93</td>\n",
              "      <td>2550000.0</td>\n",
              "      <td>16.93</td>\n",
              "      <td>NaN</td>\n",
              "      <td>NaN</td>\n",
              "      <td>NaN</td>\n",
              "    </tr>\n",
              "    <tr>\n",
              "      <th>1950-01-06</th>\n",
              "      <td>16.98</td>\n",
              "      <td>16.98</td>\n",
              "      <td>16.98</td>\n",
              "      <td>16.98</td>\n",
              "      <td>2010000.0</td>\n",
              "      <td>16.98</td>\n",
              "      <td>NaN</td>\n",
              "      <td>NaN</td>\n",
              "      <td>NaN</td>\n",
              "    </tr>\n",
              "    <tr>\n",
              "      <th>1950-01-09</th>\n",
              "      <td>17.08</td>\n",
              "      <td>17.08</td>\n",
              "      <td>17.08</td>\n",
              "      <td>17.08</td>\n",
              "      <td>2520000.0</td>\n",
              "      <td>17.08</td>\n",
              "      <td>16.9</td>\n",
              "      <td>NaN</td>\n",
              "      <td>NaN</td>\n",
              "    </tr>\n",
              "  </tbody>\n",
              "</table>\n",
              "</div>"
            ],
            "text/plain": [
              "             Open   High    Low  ...  MA 5 Close  MA 30 Close  MA 365 Close\n",
              "Date                             ...                                       \n",
              "1950-01-03  16.66  16.66  16.66  ...         NaN          NaN           NaN\n",
              "1950-01-04  16.85  16.85  16.85  ...         NaN          NaN           NaN\n",
              "1950-01-05  16.93  16.93  16.93  ...         NaN          NaN           NaN\n",
              "1950-01-06  16.98  16.98  16.98  ...         NaN          NaN           NaN\n",
              "1950-01-09  17.08  17.08  17.08  ...        16.9          NaN           NaN\n",
              "\n",
              "[5 rows x 9 columns]"
            ]
          },
          "metadata": {
            "tags": []
          },
          "execution_count": 57
        }
      ]
    },
    {
      "cell_type": "code",
      "metadata": {
        "id": "bflbiz0QFh7M",
        "colab": {
          "base_uri": "https://localhost:8080/",
          "height": 367
        },
        "outputId": "2f8330e6-5b98-48c7-c0bf-73b29893a30b"
      },
      "source": [
        "df[['MA 5 Close', 'MA 30 Close', 'MA 365 Close']].plot(figsize = (15,6));\n"
      ],
      "execution_count": null,
      "outputs": [
        {
          "output_type": "display_data",
          "data": {
            "image/png": "[encoded data removed]",
            "text/plain": [
              "<Figure size 1080x432 with 1 Axes>"
            ]
          },
          "metadata": {
            "tags": [],
            "needs_background": "light"
          }
        }
      ]
    },
    {
      "cell_type": "code",
      "metadata": {
        "colab": {
          "base_uri": "https://localhost:8080/",
          "height": 367
        },
        "id": "S3s-tHN7h5kP",
        "outputId": "4db3aef7-1e55-4e12-fd54-5e232a8ae270"
      },
      "source": [
        "df[['MA 5 Close', 'MA 30 Close', 'MA 365 Close']]['2000-01-01':].plot(figsize = (15,6));"
      ],
      "execution_count": null,
      "outputs": [
        {
          "output_type": "display_data",
          "data": {
            "image/png": "[encoded data removed]",
            "text/plain": [
              "<Figure size 1080x432 with 1 Axes>"
            ]
          },
          "metadata": {
            "tags": [],
            "needs_background": "light"
          }
        }
      ]
    },
    {
      "cell_type": "code",
      "metadata": {
        "colab": {
          "base_uri": "https://localhost:8080/",
          "height": 223
        },
        "id": "8Cvs9P4niHJ2",
        "outputId": "c8cd14ba-5113-48d7-da93-2d07e080f94d"
      },
      "source": [
        "df['return'] = df['Close'].pct_change(1)\n",
        "df.head()"
      ],
      "execution_count": null,
      "outputs": [
        {
          "output_type": "execute_result",
          "data": {
            "text/html": [
              "<div>\n",
              "<style scoped>\n",
              "    .dataframe tbody tr th:only-of-type {\n",
              "        vertical-align: middle;\n",
              "    }\n",
              "\n",
              "    .dataframe tbody tr th {\n",
              "        vertical-align: top;\n",
              "    }\n",
              "\n",
              "    .dataframe thead th {\n",
              "        text-align: right;\n",
              "    }\n",
              "</style>\n",
              "<table border=\"1\" class=\"dataframe\">\n",
              "  <thead>\n",
              "    <tr style=\"text-align: right;\">\n",
              "      <th></th>\n",
              "      <th>Open</th>\n",
              "      <th>High</th>\n",
              "      <th>Low</th>\n",
              "      <th>Close</th>\n",
              "      <th>Volume</th>\n",
              "      <th>Adj Close</th>\n",
              "      <th>MA 5 Close</th>\n",
              "      <th>MA 30 Close</th>\n",
              "      <th>MA 365 Close</th>\n",
              "      <th>return</th>\n",
              "    </tr>\n",
              "    <tr>\n",
              "      <th>Date</th>\n",
              "      <th></th>\n",
              "      <th></th>\n",
              "      <th></th>\n",
              "      <th></th>\n",
              "      <th></th>\n",
              "      <th></th>\n",
              "      <th></th>\n",
              "      <th></th>\n",
              "      <th></th>\n",
              "      <th></th>\n",
              "    </tr>\n",
              "  </thead>\n",
              "  <tbody>\n",
              "    <tr>\n",
              "      <th>1950-01-03</th>\n",
              "      <td>16.66</td>\n",
              "      <td>16.66</td>\n",
              "      <td>16.66</td>\n",
              "      <td>16.66</td>\n",
              "      <td>1260000.0</td>\n",
              "      <td>16.66</td>\n",
              "      <td>NaN</td>\n",
              "      <td>NaN</td>\n",
              "      <td>NaN</td>\n",
              "      <td>NaN</td>\n",
              "    </tr>\n",
              "    <tr>\n",
              "      <th>1950-01-04</th>\n",
              "      <td>16.85</td>\n",
              "      <td>16.85</td>\n",
              "      <td>16.85</td>\n",
              "      <td>16.85</td>\n",
              "      <td>1890000.0</td>\n",
              "      <td>16.85</td>\n",
              "      <td>NaN</td>\n",
              "      <td>NaN</td>\n",
              "      <td>NaN</td>\n",
              "      <td>0.011405</td>\n",
              "    </tr>\n",
              "    <tr>\n",
              "      <th>1950-01-05</th>\n",
              "      <td>16.93</td>\n",
              "      <td>16.93</td>\n",
              "      <td>16.93</td>\n",
              "      <td>16.93</td>\n",
              "      <td>2550000.0</td>\n",
              "      <td>16.93</td>\n",
              "      <td>NaN</td>\n",
              "      <td>NaN</td>\n",
              "      <td>NaN</td>\n",
              "      <td>0.004748</td>\n",
              "    </tr>\n",
              "    <tr>\n",
              "      <th>1950-01-06</th>\n",
              "      <td>16.98</td>\n",
              "      <td>16.98</td>\n",
              "      <td>16.98</td>\n",
              "      <td>16.98</td>\n",
              "      <td>2010000.0</td>\n",
              "      <td>16.98</td>\n",
              "      <td>NaN</td>\n",
              "      <td>NaN</td>\n",
              "      <td>NaN</td>\n",
              "      <td>0.002953</td>\n",
              "    </tr>\n",
              "    <tr>\n",
              "      <th>1950-01-09</th>\n",
              "      <td>17.08</td>\n",
              "      <td>17.08</td>\n",
              "      <td>17.08</td>\n",
              "      <td>17.08</td>\n",
              "      <td>2520000.0</td>\n",
              "      <td>17.08</td>\n",
              "      <td>16.9</td>\n",
              "      <td>NaN</td>\n",
              "      <td>NaN</td>\n",
              "      <td>0.005889</td>\n",
              "    </tr>\n",
              "  </tbody>\n",
              "</table>\n",
              "</div>"
            ],
            "text/plain": [
              "             Open   High    Low  ...  MA 30 Close  MA 365 Close    return\n",
              "Date                             ...                                     \n",
              "1950-01-03  16.66  16.66  16.66  ...          NaN           NaN       NaN\n",
              "1950-01-04  16.85  16.85  16.85  ...          NaN           NaN  0.011405\n",
              "1950-01-05  16.93  16.93  16.93  ...          NaN           NaN  0.004748\n",
              "1950-01-06  16.98  16.98  16.98  ...          NaN           NaN  0.002953\n",
              "1950-01-09  17.08  17.08  17.08  ...          NaN           NaN  0.005889\n",
              "\n",
              "[5 rows x 10 columns]"
            ]
          },
          "metadata": {
            "tags": []
          },
          "execution_count": 60
        }
      ]
    },
    {
      "cell_type": "code",
      "metadata": {
        "colab": {
          "base_uri": "https://localhost:8080/",
          "height": 385
        },
        "id": "hqa5yVRpjGfp",
        "outputId": "941952e8-7e6f-44ae-8e21-7fdf9b099c24"
      },
      "source": [
        "df[['return']].plot(figsize = (15,6))"
      ],
      "execution_count": null,
      "outputs": [
        {
          "output_type": "execute_result",
          "data": {
            "text/plain": [
              "<matplotlib.axes._subplots.AxesSubplot at 0x7fcb479b9048>"
            ]
          },
          "metadata": {
            "tags": []
          },
          "execution_count": 61
        },
        {
          "output_type": "display_data",
          "data": {
            "image/png": "[encoded data removed]",
            "text/plain": [
              "<Figure size 1080x432 with 1 Axes>"
            ]
          },
          "metadata": {
            "tags": [],
            "needs_background": "light"
          }
        }
      ]
    },
    {
      "cell_type": "code",
      "metadata": {
        "colab": {
          "base_uri": "https://localhost:8080/",
          "height": 385
        },
        "id": "iEeIWt8Ki3bJ",
        "outputId": "2fbbf74c-dc9b-43e1-e79a-97b836971d28"
      },
      "source": [
        "df[['return']]['2000-01-01':].plot(figsize = (15,6))"
      ],
      "execution_count": null,
      "outputs": [
        {
          "output_type": "execute_result",
          "data": {
            "text/plain": [
              "<matplotlib.axes._subplots.AxesSubplot at 0x7fcb478c4e48>"
            ]
          },
          "metadata": {
            "tags": []
          },
          "execution_count": 62
        },
        {
          "output_type": "display_data",
          "data": {
            "image/png": "[encoded data removed]",
            "text/plain": [
              "<Figure size 1080x432 with 1 Axes>"
            ]
          },
          "metadata": {
            "tags": [],
            "needs_background": "light"
          }
        }
      ]
    },
    {
      "cell_type": "code",
      "metadata": {
        "colab": {
          "base_uri": "https://localhost:8080/",
          "height": 388
        },
        "id": "kmK02yZyjgqi",
        "outputId": "3a1bf5a1-d0d0-44bb-e2f5-1516ba942e7a"
      },
      "source": [
        "plt.figure(figsize=(10,6))\n",
        "sns.kdeplot(df['return']);"
      ],
      "execution_count": null,
      "outputs": [
        {
          "output_type": "display_data",
          "data": {
            "image/png": "[encoded data removed]",
            "text/plain": [
              "<Figure size 720x432 with 1 Axes>"
            ]
          },
          "metadata": {
            "tags": [],
            "needs_background": "light"
          }
        }
      ]
    },
    {
      "cell_type": "code",
      "metadata": {
        "colab": {
          "base_uri": "https://localhost:8080/",
          "height": 223
        },
        "id": "nVo_y-O4i1oP",
        "outputId": "3fb281e3-68e2-4b37-abe0-03336d97bf2f"
      },
      "source": [
        "df['cumulative_return'] = (1+df['return']).cumprod()\n",
        "df.head()"
      ],
      "execution_count": null,
      "outputs": [
        {
          "output_type": "execute_result",
          "data": {
            "text/html": [
              "<div>\n",
              "<style scoped>\n",
              "    .dataframe tbody tr th:only-of-type {\n",
              "        vertical-align: middle;\n",
              "    }\n",
              "\n",
              "    .dataframe tbody tr th {\n",
              "        vertical-align: top;\n",
              "    }\n",
              "\n",
              "    .dataframe thead th {\n",
              "        text-align: right;\n",
              "    }\n",
              "</style>\n",
              "<table border=\"1\" class=\"dataframe\">\n",
              "  <thead>\n",
              "    <tr style=\"text-align: right;\">\n",
              "      <th></th>\n",
              "      <th>Open</th>\n",
              "      <th>High</th>\n",
              "      <th>Low</th>\n",
              "      <th>Close</th>\n",
              "      <th>Volume</th>\n",
              "      <th>Adj Close</th>\n",
              "      <th>MA 5 Close</th>\n",
              "      <th>MA 30 Close</th>\n",
              "      <th>MA 365 Close</th>\n",
              "      <th>return</th>\n",
              "      <th>cumulative_return</th>\n",
              "    </tr>\n",
              "    <tr>\n",
              "      <th>Date</th>\n",
              "      <th></th>\n",
              "      <th></th>\n",
              "      <th></th>\n",
              "      <th></th>\n",
              "      <th></th>\n",
              "      <th></th>\n",
              "      <th></th>\n",
              "      <th></th>\n",
              "      <th></th>\n",
              "      <th></th>\n",
              "      <th></th>\n",
              "    </tr>\n",
              "  </thead>\n",
              "  <tbody>\n",
              "    <tr>\n",
              "      <th>1950-01-03</th>\n",
              "      <td>16.66</td>\n",
              "      <td>16.66</td>\n",
              "      <td>16.66</td>\n",
              "      <td>16.66</td>\n",
              "      <td>1260000.0</td>\n",
              "      <td>16.66</td>\n",
              "      <td>NaN</td>\n",
              "      <td>NaN</td>\n",
              "      <td>NaN</td>\n",
              "      <td>NaN</td>\n",
              "      <td>NaN</td>\n",
              "    </tr>\n",
              "    <tr>\n",
              "      <th>1950-01-04</th>\n",
              "      <td>16.85</td>\n",
              "      <td>16.85</td>\n",
              "      <td>16.85</td>\n",
              "      <td>16.85</td>\n",
              "      <td>1890000.0</td>\n",
              "      <td>16.85</td>\n",
              "      <td>NaN</td>\n",
              "      <td>NaN</td>\n",
              "      <td>NaN</td>\n",
              "      <td>0.011405</td>\n",
              "      <td>1.011405</td>\n",
              "    </tr>\n",
              "    <tr>\n",
              "      <th>1950-01-05</th>\n",
              "      <td>16.93</td>\n",
              "      <td>16.93</td>\n",
              "      <td>16.93</td>\n",
              "      <td>16.93</td>\n",
              "      <td>2550000.0</td>\n",
              "      <td>16.93</td>\n",
              "      <td>NaN</td>\n",
              "      <td>NaN</td>\n",
              "      <td>NaN</td>\n",
              "      <td>0.004748</td>\n",
              "      <td>1.016206</td>\n",
              "    </tr>\n",
              "    <tr>\n",
              "      <th>1950-01-06</th>\n",
              "      <td>16.98</td>\n",
              "      <td>16.98</td>\n",
              "      <td>16.98</td>\n",
              "      <td>16.98</td>\n",
              "      <td>2010000.0</td>\n",
              "      <td>16.98</td>\n",
              "      <td>NaN</td>\n",
              "      <td>NaN</td>\n",
              "      <td>NaN</td>\n",
              "      <td>0.002953</td>\n",
              "      <td>1.019208</td>\n",
              "    </tr>\n",
              "    <tr>\n",
              "      <th>1950-01-09</th>\n",
              "      <td>17.08</td>\n",
              "      <td>17.08</td>\n",
              "      <td>17.08</td>\n",
              "      <td>17.08</td>\n",
              "      <td>2520000.0</td>\n",
              "      <td>17.08</td>\n",
              "      <td>16.9</td>\n",
              "      <td>NaN</td>\n",
              "      <td>NaN</td>\n",
              "      <td>0.005889</td>\n",
              "      <td>1.025210</td>\n",
              "    </tr>\n",
              "  </tbody>\n",
              "</table>\n",
              "</div>"
            ],
            "text/plain": [
              "             Open   High    Low  ...  MA 365 Close    return  cumulative_return\n",
              "Date                             ...                                           \n",
              "1950-01-03  16.66  16.66  16.66  ...           NaN       NaN                NaN\n",
              "1950-01-04  16.85  16.85  16.85  ...           NaN  0.011405           1.011405\n",
              "1950-01-05  16.93  16.93  16.93  ...           NaN  0.004748           1.016206\n",
              "1950-01-06  16.98  16.98  16.98  ...           NaN  0.002953           1.019208\n",
              "1950-01-09  17.08  17.08  17.08  ...           NaN  0.005889           1.025210\n",
              "\n",
              "[5 rows x 11 columns]"
            ]
          },
          "metadata": {
            "tags": []
          },
          "execution_count": 64
        }
      ]
    },
    {
      "cell_type": "code",
      "metadata": {
        "colab": {
          "base_uri": "https://localhost:8080/",
          "height": 483
        },
        "id": "fRptw4gjkzl2",
        "outputId": "66637f7b-cc96-404e-db0a-82e1c6b2e61a"
      },
      "source": [
        "df[['cumulative_return']].plot(figsize = (16,8))"
      ],
      "execution_count": null,
      "outputs": [
        {
          "output_type": "execute_result",
          "data": {
            "text/plain": [
              "<matplotlib.axes._subplots.AxesSubplot at 0x7fcb4783f908>"
            ]
          },
          "metadata": {
            "tags": []
          },
          "execution_count": 65
        },
        {
          "output_type": "display_data",
          "data": {
            "image/png": "[encoded data removed]",
            "text/plain": [
              "<Figure size 1152x576 with 1 Axes>"
            ]
          },
          "metadata": {
            "tags": [],
            "needs_background": "light"
          }
        }
      ]
    },
    {
      "cell_type": "code",
      "metadata": {
        "colab": {
          "base_uri": "https://localhost:8080/",
          "height": 223
        },
        "id": "oLONkGTClOmX",
        "outputId": "cb577b42-ae29-42a2-b628-90d8a4afbf96"
      },
      "source": [
        "df['Day_week'] = df.index.dayofweek\n",
        "df['Year'] = df.index.year\n",
        "df.head()"
      ],
      "execution_count": null,
      "outputs": [
        {
          "output_type": "execute_result",
          "data": {
            "text/html": [
              "<div>\n",
              "<style scoped>\n",
              "    .dataframe tbody tr th:only-of-type {\n",
              "        vertical-align: middle;\n",
              "    }\n",
              "\n",
              "    .dataframe tbody tr th {\n",
              "        vertical-align: top;\n",
              "    }\n",
              "\n",
              "    .dataframe thead th {\n",
              "        text-align: right;\n",
              "    }\n",
              "</style>\n",
              "<table border=\"1\" class=\"dataframe\">\n",
              "  <thead>\n",
              "    <tr style=\"text-align: right;\">\n",
              "      <th></th>\n",
              "      <th>Open</th>\n",
              "      <th>High</th>\n",
              "      <th>Low</th>\n",
              "      <th>Close</th>\n",
              "      <th>Volume</th>\n",
              "      <th>Adj Close</th>\n",
              "      <th>MA 5 Close</th>\n",
              "      <th>MA 30 Close</th>\n",
              "      <th>MA 365 Close</th>\n",
              "      <th>return</th>\n",
              "      <th>cumulative_return</th>\n",
              "      <th>Day_week</th>\n",
              "      <th>Year</th>\n",
              "    </tr>\n",
              "    <tr>\n",
              "      <th>Date</th>\n",
              "      <th></th>\n",
              "      <th></th>\n",
              "      <th></th>\n",
              "      <th></th>\n",
              "      <th></th>\n",
              "      <th></th>\n",
              "      <th></th>\n",
              "      <th></th>\n",
              "      <th></th>\n",
              "      <th></th>\n",
              "      <th></th>\n",
              "      <th></th>\n",
              "      <th></th>\n",
              "    </tr>\n",
              "  </thead>\n",
              "  <tbody>\n",
              "    <tr>\n",
              "      <th>1950-01-03</th>\n",
              "      <td>16.66</td>\n",
              "      <td>16.66</td>\n",
              "      <td>16.66</td>\n",
              "      <td>16.66</td>\n",
              "      <td>1260000.0</td>\n",
              "      <td>16.66</td>\n",
              "      <td>NaN</td>\n",
              "      <td>NaN</td>\n",
              "      <td>NaN</td>\n",
              "      <td>NaN</td>\n",
              "      <td>NaN</td>\n",
              "      <td>1</td>\n",
              "      <td>1950</td>\n",
              "    </tr>\n",
              "    <tr>\n",
              "      <th>1950-01-04</th>\n",
              "      <td>16.85</td>\n",
              "      <td>16.85</td>\n",
              "      <td>16.85</td>\n",
              "      <td>16.85</td>\n",
              "      <td>1890000.0</td>\n",
              "      <td>16.85</td>\n",
              "      <td>NaN</td>\n",
              "      <td>NaN</td>\n",
              "      <td>NaN</td>\n",
              "      <td>0.011405</td>\n",
              "      <td>1.011405</td>\n",
              "      <td>2</td>\n",
              "      <td>1950</td>\n",
              "    </tr>\n",
              "    <tr>\n",
              "      <th>1950-01-05</th>\n",
              "      <td>16.93</td>\n",
              "      <td>16.93</td>\n",
              "      <td>16.93</td>\n",
              "      <td>16.93</td>\n",
              "      <td>2550000.0</td>\n",
              "      <td>16.93</td>\n",
              "      <td>NaN</td>\n",
              "      <td>NaN</td>\n",
              "      <td>NaN</td>\n",
              "      <td>0.004748</td>\n",
              "      <td>1.016206</td>\n",
              "      <td>3</td>\n",
              "      <td>1950</td>\n",
              "    </tr>\n",
              "    <tr>\n",
              "      <th>1950-01-06</th>\n",
              "      <td>16.98</td>\n",
              "      <td>16.98</td>\n",
              "      <td>16.98</td>\n",
              "      <td>16.98</td>\n",
              "      <td>2010000.0</td>\n",
              "      <td>16.98</td>\n",
              "      <td>NaN</td>\n",
              "      <td>NaN</td>\n",
              "      <td>NaN</td>\n",
              "      <td>0.002953</td>\n",
              "      <td>1.019208</td>\n",
              "      <td>4</td>\n",
              "      <td>1950</td>\n",
              "    </tr>\n",
              "    <tr>\n",
              "      <th>1950-01-09</th>\n",
              "      <td>17.08</td>\n",
              "      <td>17.08</td>\n",
              "      <td>17.08</td>\n",
              "      <td>17.08</td>\n",
              "      <td>2520000.0</td>\n",
              "      <td>17.08</td>\n",
              "      <td>16.9</td>\n",
              "      <td>NaN</td>\n",
              "      <td>NaN</td>\n",
              "      <td>0.005889</td>\n",
              "      <td>1.025210</td>\n",
              "      <td>0</td>\n",
              "      <td>1950</td>\n",
              "    </tr>\n",
              "  </tbody>\n",
              "</table>\n",
              "</div>"
            ],
            "text/plain": [
              "             Open   High    Low  ...  cumulative_return  Day_week  Year\n",
              "Date                             ...                                   \n",
              "1950-01-03  16.66  16.66  16.66  ...                NaN         1  1950\n",
              "1950-01-04  16.85  16.85  16.85  ...           1.011405         2  1950\n",
              "1950-01-05  16.93  16.93  16.93  ...           1.016206         3  1950\n",
              "1950-01-06  16.98  16.98  16.98  ...           1.019208         4  1950\n",
              "1950-01-09  17.08  17.08  17.08  ...           1.025210         0  1950\n",
              "\n",
              "[5 rows x 13 columns]"
            ]
          },
          "metadata": {
            "tags": []
          },
          "execution_count": 66
        }
      ]
    },
    {
      "cell_type": "code",
      "metadata": {
        "colab": {
          "base_uri": "https://localhost:8080/",
          "height": 223
        },
        "id": "zdN36pv0p1GZ",
        "outputId": "f19b98c4-009d-448b-b9ec-266a7588355b"
      },
      "source": [
        "df_dow = pd.get_dummies(df['Day_week'])\n",
        "df_dow.head()"
      ],
      "execution_count": null,
      "outputs": [
        {
          "output_type": "execute_result",
          "data": {
            "text/html": [
              "<div>\n",
              "<style scoped>\n",
              "    .dataframe tbody tr th:only-of-type {\n",
              "        vertical-align: middle;\n",
              "    }\n",
              "\n",
              "    .dataframe tbody tr th {\n",
              "        vertical-align: top;\n",
              "    }\n",
              "\n",
              "    .dataframe thead th {\n",
              "        text-align: right;\n",
              "    }\n",
              "</style>\n",
              "<table border=\"1\" class=\"dataframe\">\n",
              "  <thead>\n",
              "    <tr style=\"text-align: right;\">\n",
              "      <th></th>\n",
              "      <th>0</th>\n",
              "      <th>1</th>\n",
              "      <th>2</th>\n",
              "      <th>3</th>\n",
              "      <th>4</th>\n",
              "    </tr>\n",
              "    <tr>\n",
              "      <th>Date</th>\n",
              "      <th></th>\n",
              "      <th></th>\n",
              "      <th></th>\n",
              "      <th></th>\n",
              "      <th></th>\n",
              "    </tr>\n",
              "  </thead>\n",
              "  <tbody>\n",
              "    <tr>\n",
              "      <th>1950-01-03</th>\n",
              "      <td>0</td>\n",
              "      <td>1</td>\n",
              "      <td>0</td>\n",
              "      <td>0</td>\n",
              "      <td>0</td>\n",
              "    </tr>\n",
              "    <tr>\n",
              "      <th>1950-01-04</th>\n",
              "      <td>0</td>\n",
              "      <td>0</td>\n",
              "      <td>1</td>\n",
              "      <td>0</td>\n",
              "      <td>0</td>\n",
              "    </tr>\n",
              "    <tr>\n",
              "      <th>1950-01-05</th>\n",
              "      <td>0</td>\n",
              "      <td>0</td>\n",
              "      <td>0</td>\n",
              "      <td>1</td>\n",
              "      <td>0</td>\n",
              "    </tr>\n",
              "    <tr>\n",
              "      <th>1950-01-06</th>\n",
              "      <td>0</td>\n",
              "      <td>0</td>\n",
              "      <td>0</td>\n",
              "      <td>0</td>\n",
              "      <td>1</td>\n",
              "    </tr>\n",
              "    <tr>\n",
              "      <th>1950-01-09</th>\n",
              "      <td>1</td>\n",
              "      <td>0</td>\n",
              "      <td>0</td>\n",
              "      <td>0</td>\n",
              "      <td>0</td>\n",
              "    </tr>\n",
              "  </tbody>\n",
              "</table>\n",
              "</div>"
            ],
            "text/plain": [
              "            0  1  2  3  4\n",
              "Date                     \n",
              "1950-01-03  0  1  0  0  0\n",
              "1950-01-04  0  0  1  0  0\n",
              "1950-01-05  0  0  0  1  0\n",
              "1950-01-06  0  0  0  0  1\n",
              "1950-01-09  1  0  0  0  0"
            ]
          },
          "metadata": {
            "tags": []
          },
          "execution_count": 67
        }
      ]
    },
    {
      "cell_type": "code",
      "metadata": {
        "colab": {
          "base_uri": "https://localhost:8080/",
          "height": 223
        },
        "id": "rPIi1Mm8rBKH",
        "outputId": "3643bd35-e009-483e-8d9a-95a237ce755e"
      },
      "source": [
        "df = pd.concat ( [df, df_dow], axis= 1)\n",
        "df.drop( columns = 'Day_week' , inplace = True)\n",
        "df.head()"
      ],
      "execution_count": null,
      "outputs": [
        {
          "output_type": "execute_result",
          "data": {
            "text/html": [
              "<div>\n",
              "<style scoped>\n",
              "    .dataframe tbody tr th:only-of-type {\n",
              "        vertical-align: middle;\n",
              "    }\n",
              "\n",
              "    .dataframe tbody tr th {\n",
              "        vertical-align: top;\n",
              "    }\n",
              "\n",
              "    .dataframe thead th {\n",
              "        text-align: right;\n",
              "    }\n",
              "</style>\n",
              "<table border=\"1\" class=\"dataframe\">\n",
              "  <thead>\n",
              "    <tr style=\"text-align: right;\">\n",
              "      <th></th>\n",
              "      <th>Open</th>\n",
              "      <th>High</th>\n",
              "      <th>Low</th>\n",
              "      <th>Close</th>\n",
              "      <th>Volume</th>\n",
              "      <th>Adj Close</th>\n",
              "      <th>MA 5 Close</th>\n",
              "      <th>MA 30 Close</th>\n",
              "      <th>MA 365 Close</th>\n",
              "      <th>return</th>\n",
              "      <th>cumulative_return</th>\n",
              "      <th>Year</th>\n",
              "      <th>0</th>\n",
              "      <th>1</th>\n",
              "      <th>2</th>\n",
              "      <th>3</th>\n",
              "      <th>4</th>\n",
              "    </tr>\n",
              "    <tr>\n",
              "      <th>Date</th>\n",
              "      <th></th>\n",
              "      <th></th>\n",
              "      <th></th>\n",
              "      <th></th>\n",
              "      <th></th>\n",
              "      <th></th>\n",
              "      <th></th>\n",
              "      <th></th>\n",
              "      <th></th>\n",
              "      <th></th>\n",
              "      <th></th>\n",
              "      <th></th>\n",
              "      <th></th>\n",
              "      <th></th>\n",
              "      <th></th>\n",
              "      <th></th>\n",
              "      <th></th>\n",
              "    </tr>\n",
              "  </thead>\n",
              "  <tbody>\n",
              "    <tr>\n",
              "      <th>1950-01-03</th>\n",
              "      <td>16.66</td>\n",
              "      <td>16.66</td>\n",
              "      <td>16.66</td>\n",
              "      <td>16.66</td>\n",
              "      <td>1260000.0</td>\n",
              "      <td>16.66</td>\n",
              "      <td>NaN</td>\n",
              "      <td>NaN</td>\n",
              "      <td>NaN</td>\n",
              "      <td>NaN</td>\n",
              "      <td>NaN</td>\n",
              "      <td>1950</td>\n",
              "      <td>0</td>\n",
              "      <td>1</td>\n",
              "      <td>0</td>\n",
              "      <td>0</td>\n",
              "      <td>0</td>\n",
              "    </tr>\n",
              "    <tr>\n",
              "      <th>1950-01-04</th>\n",
              "      <td>16.85</td>\n",
              "      <td>16.85</td>\n",
              "      <td>16.85</td>\n",
              "      <td>16.85</td>\n",
              "      <td>1890000.0</td>\n",
              "      <td>16.85</td>\n",
              "      <td>NaN</td>\n",
              "      <td>NaN</td>\n",
              "      <td>NaN</td>\n",
              "      <td>0.011405</td>\n",
              "      <td>1.011405</td>\n",
              "      <td>1950</td>\n",
              "      <td>0</td>\n",
              "      <td>0</td>\n",
              "      <td>1</td>\n",
              "      <td>0</td>\n",
              "      <td>0</td>\n",
              "    </tr>\n",
              "    <tr>\n",
              "      <th>1950-01-05</th>\n",
              "      <td>16.93</td>\n",
              "      <td>16.93</td>\n",
              "      <td>16.93</td>\n",
              "      <td>16.93</td>\n",
              "      <td>2550000.0</td>\n",
              "      <td>16.93</td>\n",
              "      <td>NaN</td>\n",
              "      <td>NaN</td>\n",
              "      <td>NaN</td>\n",
              "      <td>0.004748</td>\n",
              "      <td>1.016206</td>\n",
              "      <td>1950</td>\n",
              "      <td>0</td>\n",
              "      <td>0</td>\n",
              "      <td>0</td>\n",
              "      <td>1</td>\n",
              "      <td>0</td>\n",
              "    </tr>\n",
              "    <tr>\n",
              "      <th>1950-01-06</th>\n",
              "      <td>16.98</td>\n",
              "      <td>16.98</td>\n",
              "      <td>16.98</td>\n",
              "      <td>16.98</td>\n",
              "      <td>2010000.0</td>\n",
              "      <td>16.98</td>\n",
              "      <td>NaN</td>\n",
              "      <td>NaN</td>\n",
              "      <td>NaN</td>\n",
              "      <td>0.002953</td>\n",
              "      <td>1.019208</td>\n",
              "      <td>1950</td>\n",
              "      <td>0</td>\n",
              "      <td>0</td>\n",
              "      <td>0</td>\n",
              "      <td>0</td>\n",
              "      <td>1</td>\n",
              "    </tr>\n",
              "    <tr>\n",
              "      <th>1950-01-09</th>\n",
              "      <td>17.08</td>\n",
              "      <td>17.08</td>\n",
              "      <td>17.08</td>\n",
              "      <td>17.08</td>\n",
              "      <td>2520000.0</td>\n",
              "      <td>17.08</td>\n",
              "      <td>16.9</td>\n",
              "      <td>NaN</td>\n",
              "      <td>NaN</td>\n",
              "      <td>0.005889</td>\n",
              "      <td>1.025210</td>\n",
              "      <td>1950</td>\n",
              "      <td>1</td>\n",
              "      <td>0</td>\n",
              "      <td>0</td>\n",
              "      <td>0</td>\n",
              "      <td>0</td>\n",
              "    </tr>\n",
              "  </tbody>\n",
              "</table>\n",
              "</div>"
            ],
            "text/plain": [
              "             Open   High    Low  Close     Volume  ...  0  1  2  3  4\n",
              "Date                                               ...               \n",
              "1950-01-03  16.66  16.66  16.66  16.66  1260000.0  ...  0  1  0  0  0\n",
              "1950-01-04  16.85  16.85  16.85  16.85  1890000.0  ...  0  0  1  0  0\n",
              "1950-01-05  16.93  16.93  16.93  16.93  2550000.0  ...  0  0  0  1  0\n",
              "1950-01-06  16.98  16.98  16.98  16.98  2010000.0  ...  0  0  0  0  1\n",
              "1950-01-09  17.08  17.08  17.08  17.08  2520000.0  ...  1  0  0  0  0\n",
              "\n",
              "[5 rows x 17 columns]"
            ]
          },
          "metadata": {
            "tags": []
          },
          "execution_count": 68
        }
      ]
    },
    {
      "cell_type": "code",
      "metadata": {
        "colab": {
          "base_uri": "https://localhost:8080/",
          "height": 223
        },
        "id": "Zl3vmkVhrb4x",
        "outputId": "a0fcf65f-9f0f-47b0-ca8d-2e2c258fc4e7"
      },
      "source": [
        "# déplacer la colonne MA 5 d'un jour, car la moyenne ne doit pas prendre en compte du jour à prédire, seulement les jours précédents\n",
        "\n",
        "df['MA 5 Close'] = df['MA 5 Close'].shift(1)\n",
        "df.head()"
      ],
      "execution_count": null,
      "outputs": [
        {
          "output_type": "execute_result",
          "data": {
            "text/html": [
              "<div>\n",
              "<style scoped>\n",
              "    .dataframe tbody tr th:only-of-type {\n",
              "        vertical-align: middle;\n",
              "    }\n",
              "\n",
              "    .dataframe tbody tr th {\n",
              "        vertical-align: top;\n",
              "    }\n",
              "\n",
              "    .dataframe thead th {\n",
              "        text-align: right;\n",
              "    }\n",
              "</style>\n",
              "<table border=\"1\" class=\"dataframe\">\n",
              "  <thead>\n",
              "    <tr style=\"text-align: right;\">\n",
              "      <th></th>\n",
              "      <th>Open</th>\n",
              "      <th>High</th>\n",
              "      <th>Low</th>\n",
              "      <th>Close</th>\n",
              "      <th>Volume</th>\n",
              "      <th>Adj Close</th>\n",
              "      <th>MA 5 Close</th>\n",
              "      <th>MA 30 Close</th>\n",
              "      <th>MA 365 Close</th>\n",
              "      <th>return</th>\n",
              "      <th>cumulative_return</th>\n",
              "      <th>Year</th>\n",
              "      <th>0</th>\n",
              "      <th>1</th>\n",
              "      <th>2</th>\n",
              "      <th>3</th>\n",
              "      <th>4</th>\n",
              "    </tr>\n",
              "    <tr>\n",
              "      <th>Date</th>\n",
              "      <th></th>\n",
              "      <th></th>\n",
              "      <th></th>\n",
              "      <th></th>\n",
              "      <th></th>\n",
              "      <th></th>\n",
              "      <th></th>\n",
              "      <th></th>\n",
              "      <th></th>\n",
              "      <th></th>\n",
              "      <th></th>\n",
              "      <th></th>\n",
              "      <th></th>\n",
              "      <th></th>\n",
              "      <th></th>\n",
              "      <th></th>\n",
              "      <th></th>\n",
              "    </tr>\n",
              "  </thead>\n",
              "  <tbody>\n",
              "    <tr>\n",
              "      <th>1950-01-03</th>\n",
              "      <td>16.66</td>\n",
              "      <td>16.66</td>\n",
              "      <td>16.66</td>\n",
              "      <td>16.66</td>\n",
              "      <td>1260000.0</td>\n",
              "      <td>16.66</td>\n",
              "      <td>NaN</td>\n",
              "      <td>NaN</td>\n",
              "      <td>NaN</td>\n",
              "      <td>NaN</td>\n",
              "      <td>NaN</td>\n",
              "      <td>1950</td>\n",
              "      <td>0</td>\n",
              "      <td>1</td>\n",
              "      <td>0</td>\n",
              "      <td>0</td>\n",
              "      <td>0</td>\n",
              "    </tr>\n",
              "    <tr>\n",
              "      <th>1950-01-04</th>\n",
              "      <td>16.85</td>\n",
              "      <td>16.85</td>\n",
              "      <td>16.85</td>\n",
              "      <td>16.85</td>\n",
              "      <td>1890000.0</td>\n",
              "      <td>16.85</td>\n",
              "      <td>NaN</td>\n",
              "      <td>NaN</td>\n",
              "      <td>NaN</td>\n",
              "      <td>0.011405</td>\n",
              "      <td>1.011405</td>\n",
              "      <td>1950</td>\n",
              "      <td>0</td>\n",
              "      <td>0</td>\n",
              "      <td>1</td>\n",
              "      <td>0</td>\n",
              "      <td>0</td>\n",
              "    </tr>\n",
              "    <tr>\n",
              "      <th>1950-01-05</th>\n",
              "      <td>16.93</td>\n",
              "      <td>16.93</td>\n",
              "      <td>16.93</td>\n",
              "      <td>16.93</td>\n",
              "      <td>2550000.0</td>\n",
              "      <td>16.93</td>\n",
              "      <td>NaN</td>\n",
              "      <td>NaN</td>\n",
              "      <td>NaN</td>\n",
              "      <td>0.004748</td>\n",
              "      <td>1.016206</td>\n",
              "      <td>1950</td>\n",
              "      <td>0</td>\n",
              "      <td>0</td>\n",
              "      <td>0</td>\n",
              "      <td>1</td>\n",
              "      <td>0</td>\n",
              "    </tr>\n",
              "    <tr>\n",
              "      <th>1950-01-06</th>\n",
              "      <td>16.98</td>\n",
              "      <td>16.98</td>\n",
              "      <td>16.98</td>\n",
              "      <td>16.98</td>\n",
              "      <td>2010000.0</td>\n",
              "      <td>16.98</td>\n",
              "      <td>NaN</td>\n",
              "      <td>NaN</td>\n",
              "      <td>NaN</td>\n",
              "      <td>0.002953</td>\n",
              "      <td>1.019208</td>\n",
              "      <td>1950</td>\n",
              "      <td>0</td>\n",
              "      <td>0</td>\n",
              "      <td>0</td>\n",
              "      <td>0</td>\n",
              "      <td>1</td>\n",
              "    </tr>\n",
              "    <tr>\n",
              "      <th>1950-01-09</th>\n",
              "      <td>17.08</td>\n",
              "      <td>17.08</td>\n",
              "      <td>17.08</td>\n",
              "      <td>17.08</td>\n",
              "      <td>2520000.0</td>\n",
              "      <td>17.08</td>\n",
              "      <td>NaN</td>\n",
              "      <td>NaN</td>\n",
              "      <td>NaN</td>\n",
              "      <td>0.005889</td>\n",
              "      <td>1.025210</td>\n",
              "      <td>1950</td>\n",
              "      <td>1</td>\n",
              "      <td>0</td>\n",
              "      <td>0</td>\n",
              "      <td>0</td>\n",
              "      <td>0</td>\n",
              "    </tr>\n",
              "  </tbody>\n",
              "</table>\n",
              "</div>"
            ],
            "text/plain": [
              "             Open   High    Low  Close     Volume  ...  0  1  2  3  4\n",
              "Date                                               ...               \n",
              "1950-01-03  16.66  16.66  16.66  16.66  1260000.0  ...  0  1  0  0  0\n",
              "1950-01-04  16.85  16.85  16.85  16.85  1890000.0  ...  0  0  1  0  0\n",
              "1950-01-05  16.93  16.93  16.93  16.93  2550000.0  ...  0  0  0  1  0\n",
              "1950-01-06  16.98  16.98  16.98  16.98  2010000.0  ...  0  0  0  0  1\n",
              "1950-01-09  17.08  17.08  17.08  17.08  2520000.0  ...  1  0  0  0  0\n",
              "\n",
              "[5 rows x 17 columns]"
            ]
          },
          "metadata": {
            "tags": []
          },
          "execution_count": 69
        }
      ]
    },
    {
      "cell_type": "code",
      "metadata": {
        "colab": {
          "base_uri": "https://localhost:8080/",
          "height": 223
        },
        "id": "BSLyov_Vr_HX",
        "outputId": "1766270d-393a-4e51-e647-260cc0dd286d"
      },
      "source": [
        "df.head(5)"
      ],
      "execution_count": null,
      "outputs": [
        {
          "output_type": "execute_result",
          "data": {
            "text/html": [
              "<div>\n",
              "<style scoped>\n",
              "    .dataframe tbody tr th:only-of-type {\n",
              "        vertical-align: middle;\n",
              "    }\n",
              "\n",
              "    .dataframe tbody tr th {\n",
              "        vertical-align: top;\n",
              "    }\n",
              "\n",
              "    .dataframe thead th {\n",
              "        text-align: right;\n",
              "    }\n",
              "</style>\n",
              "<table border=\"1\" class=\"dataframe\">\n",
              "  <thead>\n",
              "    <tr style=\"text-align: right;\">\n",
              "      <th></th>\n",
              "      <th>Open</th>\n",
              "      <th>High</th>\n",
              "      <th>Low</th>\n",
              "      <th>Close</th>\n",
              "      <th>Volume</th>\n",
              "      <th>Adj Close</th>\n",
              "      <th>MA 5 Close</th>\n",
              "      <th>MA 30 Close</th>\n",
              "      <th>MA 365 Close</th>\n",
              "      <th>return</th>\n",
              "      <th>cumulative_return</th>\n",
              "      <th>Year</th>\n",
              "      <th>0</th>\n",
              "      <th>1</th>\n",
              "      <th>2</th>\n",
              "      <th>3</th>\n",
              "      <th>4</th>\n",
              "    </tr>\n",
              "    <tr>\n",
              "      <th>Date</th>\n",
              "      <th></th>\n",
              "      <th></th>\n",
              "      <th></th>\n",
              "      <th></th>\n",
              "      <th></th>\n",
              "      <th></th>\n",
              "      <th></th>\n",
              "      <th></th>\n",
              "      <th></th>\n",
              "      <th></th>\n",
              "      <th></th>\n",
              "      <th></th>\n",
              "      <th></th>\n",
              "      <th></th>\n",
              "      <th></th>\n",
              "      <th></th>\n",
              "      <th></th>\n",
              "    </tr>\n",
              "  </thead>\n",
              "  <tbody>\n",
              "    <tr>\n",
              "      <th>1950-01-03</th>\n",
              "      <td>16.66</td>\n",
              "      <td>16.66</td>\n",
              "      <td>16.66</td>\n",
              "      <td>16.66</td>\n",
              "      <td>1260000.0</td>\n",
              "      <td>16.66</td>\n",
              "      <td>NaN</td>\n",
              "      <td>NaN</td>\n",
              "      <td>NaN</td>\n",
              "      <td>NaN</td>\n",
              "      <td>NaN</td>\n",
              "      <td>1950</td>\n",
              "      <td>0</td>\n",
              "      <td>1</td>\n",
              "      <td>0</td>\n",
              "      <td>0</td>\n",
              "      <td>0</td>\n",
              "    </tr>\n",
              "    <tr>\n",
              "      <th>1950-01-04</th>\n",
              "      <td>16.85</td>\n",
              "      <td>16.85</td>\n",
              "      <td>16.85</td>\n",
              "      <td>16.85</td>\n",
              "      <td>1890000.0</td>\n",
              "      <td>16.85</td>\n",
              "      <td>NaN</td>\n",
              "      <td>NaN</td>\n",
              "      <td>NaN</td>\n",
              "      <td>0.011405</td>\n",
              "      <td>1.011405</td>\n",
              "      <td>1950</td>\n",
              "      <td>0</td>\n",
              "      <td>0</td>\n",
              "      <td>1</td>\n",
              "      <td>0</td>\n",
              "      <td>0</td>\n",
              "    </tr>\n",
              "    <tr>\n",
              "      <th>1950-01-05</th>\n",
              "      <td>16.93</td>\n",
              "      <td>16.93</td>\n",
              "      <td>16.93</td>\n",
              "      <td>16.93</td>\n",
              "      <td>2550000.0</td>\n",
              "      <td>16.93</td>\n",
              "      <td>NaN</td>\n",
              "      <td>NaN</td>\n",
              "      <td>NaN</td>\n",
              "      <td>0.004748</td>\n",
              "      <td>1.016206</td>\n",
              "      <td>1950</td>\n",
              "      <td>0</td>\n",
              "      <td>0</td>\n",
              "      <td>0</td>\n",
              "      <td>1</td>\n",
              "      <td>0</td>\n",
              "    </tr>\n",
              "    <tr>\n",
              "      <th>1950-01-06</th>\n",
              "      <td>16.98</td>\n",
              "      <td>16.98</td>\n",
              "      <td>16.98</td>\n",
              "      <td>16.98</td>\n",
              "      <td>2010000.0</td>\n",
              "      <td>16.98</td>\n",
              "      <td>NaN</td>\n",
              "      <td>NaN</td>\n",
              "      <td>NaN</td>\n",
              "      <td>0.002953</td>\n",
              "      <td>1.019208</td>\n",
              "      <td>1950</td>\n",
              "      <td>0</td>\n",
              "      <td>0</td>\n",
              "      <td>0</td>\n",
              "      <td>0</td>\n",
              "      <td>1</td>\n",
              "    </tr>\n",
              "    <tr>\n",
              "      <th>1950-01-09</th>\n",
              "      <td>17.08</td>\n",
              "      <td>17.08</td>\n",
              "      <td>17.08</td>\n",
              "      <td>17.08</td>\n",
              "      <td>2520000.0</td>\n",
              "      <td>17.08</td>\n",
              "      <td>NaN</td>\n",
              "      <td>NaN</td>\n",
              "      <td>NaN</td>\n",
              "      <td>0.005889</td>\n",
              "      <td>1.025210</td>\n",
              "      <td>1950</td>\n",
              "      <td>1</td>\n",
              "      <td>0</td>\n",
              "      <td>0</td>\n",
              "      <td>0</td>\n",
              "      <td>0</td>\n",
              "    </tr>\n",
              "  </tbody>\n",
              "</table>\n",
              "</div>"
            ],
            "text/plain": [
              "             Open   High    Low  Close     Volume  ...  0  1  2  3  4\n",
              "Date                                               ...               \n",
              "1950-01-03  16.66  16.66  16.66  16.66  1260000.0  ...  0  1  0  0  0\n",
              "1950-01-04  16.85  16.85  16.85  16.85  1890000.0  ...  0  0  1  0  0\n",
              "1950-01-05  16.93  16.93  16.93  16.93  2550000.0  ...  0  0  0  1  0\n",
              "1950-01-06  16.98  16.98  16.98  16.98  2010000.0  ...  0  0  0  0  1\n",
              "1950-01-09  17.08  17.08  17.08  17.08  2520000.0  ...  1  0  0  0  0\n",
              "\n",
              "[5 rows x 17 columns]"
            ]
          },
          "metadata": {
            "tags": []
          },
          "execution_count": 70
        }
      ]
    },
    {
      "cell_type": "markdown",
      "metadata": {
        "id": "jWfVnKDMOIyh"
      },
      "source": [
        "# Séparer les données"
      ]
    },
    {
      "cell_type": "code",
      "metadata": {
        "id": "uHVbVsJmsHhT"
      },
      "source": [
        "df = df.loc['1951-01-03' :]"
      ],
      "execution_count": null,
      "outputs": []
    },
    {
      "cell_type": "code",
      "metadata": {
        "colab": {
          "base_uri": "https://localhost:8080/",
          "height": 223
        },
        "id": "JKs68sHFMpmU",
        "outputId": "e8aed8e9-cac5-46b0-dc56-d109680000e5"
      },
      "source": [
        "df.dropna(axis = 0)\n",
        "df.head(5)"
      ],
      "execution_count": null,
      "outputs": [
        {
          "output_type": "execute_result",
          "data": {
            "text/html": [
              "<div>\n",
              "<style scoped>\n",
              "    .dataframe tbody tr th:only-of-type {\n",
              "        vertical-align: middle;\n",
              "    }\n",
              "\n",
              "    .dataframe tbody tr th {\n",
              "        vertical-align: top;\n",
              "    }\n",
              "\n",
              "    .dataframe thead th {\n",
              "        text-align: right;\n",
              "    }\n",
              "</style>\n",
              "<table border=\"1\" class=\"dataframe\">\n",
              "  <thead>\n",
              "    <tr style=\"text-align: right;\">\n",
              "      <th></th>\n",
              "      <th>Open</th>\n",
              "      <th>High</th>\n",
              "      <th>Low</th>\n",
              "      <th>Close</th>\n",
              "      <th>Volume</th>\n",
              "      <th>Adj Close</th>\n",
              "      <th>MA 5 Close</th>\n",
              "      <th>MA 30 Close</th>\n",
              "      <th>MA 365 Close</th>\n",
              "      <th>return</th>\n",
              "      <th>cumulative_return</th>\n",
              "      <th>Year</th>\n",
              "      <th>0</th>\n",
              "      <th>1</th>\n",
              "      <th>2</th>\n",
              "      <th>3</th>\n",
              "      <th>4</th>\n",
              "    </tr>\n",
              "    <tr>\n",
              "      <th>Date</th>\n",
              "      <th></th>\n",
              "      <th></th>\n",
              "      <th></th>\n",
              "      <th></th>\n",
              "      <th></th>\n",
              "      <th></th>\n",
              "      <th></th>\n",
              "      <th></th>\n",
              "      <th></th>\n",
              "      <th></th>\n",
              "      <th></th>\n",
              "      <th></th>\n",
              "      <th></th>\n",
              "      <th></th>\n",
              "      <th></th>\n",
              "      <th></th>\n",
              "      <th></th>\n",
              "    </tr>\n",
              "  </thead>\n",
              "  <tbody>\n",
              "    <tr>\n",
              "      <th>1951-01-03</th>\n",
              "      <td>20.690001</td>\n",
              "      <td>20.690001</td>\n",
              "      <td>20.690001</td>\n",
              "      <td>20.690001</td>\n",
              "      <td>3370000.0</td>\n",
              "      <td>20.690001</td>\n",
              "      <td>20.360000</td>\n",
              "      <td>19.842666</td>\n",
              "      <td>NaN</td>\n",
              "      <td>-0.003852</td>\n",
              "      <td>1.241897</td>\n",
              "      <td>1951</td>\n",
              "      <td>0</td>\n",
              "      <td>0</td>\n",
              "      <td>1</td>\n",
              "      <td>0</td>\n",
              "      <td>0</td>\n",
              "    </tr>\n",
              "    <tr>\n",
              "      <th>1951-01-04</th>\n",
              "      <td>20.870001</td>\n",
              "      <td>20.870001</td>\n",
              "      <td>20.870001</td>\n",
              "      <td>20.870001</td>\n",
              "      <td>3390000.0</td>\n",
              "      <td>20.870001</td>\n",
              "      <td>20.514000</td>\n",
              "      <td>19.874000</td>\n",
              "      <td>NaN</td>\n",
              "      <td>0.008700</td>\n",
              "      <td>1.252701</td>\n",
              "      <td>1951</td>\n",
              "      <td>0</td>\n",
              "      <td>0</td>\n",
              "      <td>0</td>\n",
              "      <td>1</td>\n",
              "      <td>0</td>\n",
              "    </tr>\n",
              "    <tr>\n",
              "      <th>1951-01-05</th>\n",
              "      <td>20.870001</td>\n",
              "      <td>20.870001</td>\n",
              "      <td>20.870001</td>\n",
              "      <td>20.870001</td>\n",
              "      <td>3390000.0</td>\n",
              "      <td>20.870001</td>\n",
              "      <td>20.628000</td>\n",
              "      <td>19.907000</td>\n",
              "      <td>NaN</td>\n",
              "      <td>0.000000</td>\n",
              "      <td>1.252701</td>\n",
              "      <td>1951</td>\n",
              "      <td>0</td>\n",
              "      <td>0</td>\n",
              "      <td>0</td>\n",
              "      <td>0</td>\n",
              "      <td>1</td>\n",
              "    </tr>\n",
              "    <tr>\n",
              "      <th>1951-01-08</th>\n",
              "      <td>21.000000</td>\n",
              "      <td>21.000000</td>\n",
              "      <td>21.000000</td>\n",
              "      <td>21.000000</td>\n",
              "      <td>2780000.0</td>\n",
              "      <td>21.000000</td>\n",
              "      <td>20.726001</td>\n",
              "      <td>19.935000</td>\n",
              "      <td>NaN</td>\n",
              "      <td>0.006229</td>\n",
              "      <td>1.260504</td>\n",
              "      <td>1951</td>\n",
              "      <td>1</td>\n",
              "      <td>0</td>\n",
              "      <td>0</td>\n",
              "      <td>0</td>\n",
              "      <td>0</td>\n",
              "    </tr>\n",
              "    <tr>\n",
              "      <th>1951-01-09</th>\n",
              "      <td>21.120001</td>\n",
              "      <td>21.120001</td>\n",
              "      <td>21.120001</td>\n",
              "      <td>21.120001</td>\n",
              "      <td>3800000.0</td>\n",
              "      <td>21.120001</td>\n",
              "      <td>20.840001</td>\n",
              "      <td>19.961667</td>\n",
              "      <td>NaN</td>\n",
              "      <td>0.005714</td>\n",
              "      <td>1.267707</td>\n",
              "      <td>1951</td>\n",
              "      <td>0</td>\n",
              "      <td>1</td>\n",
              "      <td>0</td>\n",
              "      <td>0</td>\n",
              "      <td>0</td>\n",
              "    </tr>\n",
              "  </tbody>\n",
              "</table>\n",
              "</div>"
            ],
            "text/plain": [
              "                 Open       High        Low      Close  ...  1  2  3  4\n",
              "Date                                                    ...            \n",
              "1951-01-03  20.690001  20.690001  20.690001  20.690001  ...  0  1  0  0\n",
              "1951-01-04  20.870001  20.870001  20.870001  20.870001  ...  0  0  1  0\n",
              "1951-01-05  20.870001  20.870001  20.870001  20.870001  ...  0  0  0  1\n",
              "1951-01-08  21.000000  21.000000  21.000000  21.000000  ...  0  0  0  0\n",
              "1951-01-09  21.120001  21.120001  21.120001  21.120001  ...  1  0  0  0\n",
              "\n",
              "[5 rows x 17 columns]"
            ]
          },
          "metadata": {
            "tags": []
          },
          "execution_count": 72
        }
      ]
    },
    {
      "cell_type": "code",
      "metadata": {
        "colab": {
          "base_uri": "https://localhost:8080/"
        },
        "id": "G25qGj_VMre2",
        "outputId": "5b80b200-f036-42f5-aec9-138e2332c848"
      },
      "source": [
        "train = df.loc[:'2013-01-01']\n",
        "test = df.loc['2013-01-01':]\n",
        "print('Longeur du train:',len(train))\n",
        "print('Longeur du test:',len(test))"
      ],
      "execution_count": null,
      "outputs": [
        {
          "output_type": "stream",
          "text": [
            "Longeur du train: 15601\n",
            "Longeur du test: 739\n"
          ],
          "name": "stdout"
        }
      ]
    },
    {
      "cell_type": "markdown",
      "metadata": {
        "id": "n39fcjy5O8rJ"
      },
      "source": [
        "# Faire des prédictions\n"
      ]
    },
    {
      "cell_type": "code",
      "metadata": {
        "colab": {
          "base_uri": "https://localhost:8080/",
          "height": 223
        },
        "id": "8xvCC3y8pKgF",
        "outputId": "2eb15735-9244-4cd0-e1be-45265e1da706"
      },
      "source": [
        "df.head()"
      ],
      "execution_count": null,
      "outputs": [
        {
          "output_type": "execute_result",
          "data": {
            "text/html": [
              "<div>\n",
              "<style scoped>\n",
              "    .dataframe tbody tr th:only-of-type {\n",
              "        vertical-align: middle;\n",
              "    }\n",
              "\n",
              "    .dataframe tbody tr th {\n",
              "        vertical-align: top;\n",
              "    }\n",
              "\n",
              "    .dataframe thead th {\n",
              "        text-align: right;\n",
              "    }\n",
              "</style>\n",
              "<table border=\"1\" class=\"dataframe\">\n",
              "  <thead>\n",
              "    <tr style=\"text-align: right;\">\n",
              "      <th></th>\n",
              "      <th>Open</th>\n",
              "      <th>High</th>\n",
              "      <th>Low</th>\n",
              "      <th>Close</th>\n",
              "      <th>Volume</th>\n",
              "      <th>Adj Close</th>\n",
              "      <th>MA 5 Close</th>\n",
              "      <th>MA 30 Close</th>\n",
              "      <th>MA 365 Close</th>\n",
              "      <th>return</th>\n",
              "      <th>cumulative_return</th>\n",
              "      <th>Year</th>\n",
              "      <th>0</th>\n",
              "      <th>1</th>\n",
              "      <th>2</th>\n",
              "      <th>3</th>\n",
              "      <th>4</th>\n",
              "    </tr>\n",
              "    <tr>\n",
              "      <th>Date</th>\n",
              "      <th></th>\n",
              "      <th></th>\n",
              "      <th></th>\n",
              "      <th></th>\n",
              "      <th></th>\n",
              "      <th></th>\n",
              "      <th></th>\n",
              "      <th></th>\n",
              "      <th></th>\n",
              "      <th></th>\n",
              "      <th></th>\n",
              "      <th></th>\n",
              "      <th></th>\n",
              "      <th></th>\n",
              "      <th></th>\n",
              "      <th></th>\n",
              "      <th></th>\n",
              "    </tr>\n",
              "  </thead>\n",
              "  <tbody>\n",
              "    <tr>\n",
              "      <th>1951-01-03</th>\n",
              "      <td>20.690001</td>\n",
              "      <td>20.690001</td>\n",
              "      <td>20.690001</td>\n",
              "      <td>20.690001</td>\n",
              "      <td>3370000.0</td>\n",
              "      <td>20.690001</td>\n",
              "      <td>20.360000</td>\n",
              "      <td>19.842666</td>\n",
              "      <td>NaN</td>\n",
              "      <td>-0.003852</td>\n",
              "      <td>1.241897</td>\n",
              "      <td>1951</td>\n",
              "      <td>0</td>\n",
              "      <td>0</td>\n",
              "      <td>1</td>\n",
              "      <td>0</td>\n",
              "      <td>0</td>\n",
              "    </tr>\n",
              "    <tr>\n",
              "      <th>1951-01-04</th>\n",
              "      <td>20.870001</td>\n",
              "      <td>20.870001</td>\n",
              "      <td>20.870001</td>\n",
              "      <td>20.870001</td>\n",
              "      <td>3390000.0</td>\n",
              "      <td>20.870001</td>\n",
              "      <td>20.514000</td>\n",
              "      <td>19.874000</td>\n",
              "      <td>NaN</td>\n",
              "      <td>0.008700</td>\n",
              "      <td>1.252701</td>\n",
              "      <td>1951</td>\n",
              "      <td>0</td>\n",
              "      <td>0</td>\n",
              "      <td>0</td>\n",
              "      <td>1</td>\n",
              "      <td>0</td>\n",
              "    </tr>\n",
              "    <tr>\n",
              "      <th>1951-01-05</th>\n",
              "      <td>20.870001</td>\n",
              "      <td>20.870001</td>\n",
              "      <td>20.870001</td>\n",
              "      <td>20.870001</td>\n",
              "      <td>3390000.0</td>\n",
              "      <td>20.870001</td>\n",
              "      <td>20.628000</td>\n",
              "      <td>19.907000</td>\n",
              "      <td>NaN</td>\n",
              "      <td>0.000000</td>\n",
              "      <td>1.252701</td>\n",
              "      <td>1951</td>\n",
              "      <td>0</td>\n",
              "      <td>0</td>\n",
              "      <td>0</td>\n",
              "      <td>0</td>\n",
              "      <td>1</td>\n",
              "    </tr>\n",
              "    <tr>\n",
              "      <th>1951-01-08</th>\n",
              "      <td>21.000000</td>\n",
              "      <td>21.000000</td>\n",
              "      <td>21.000000</td>\n",
              "      <td>21.000000</td>\n",
              "      <td>2780000.0</td>\n",
              "      <td>21.000000</td>\n",
              "      <td>20.726001</td>\n",
              "      <td>19.935000</td>\n",
              "      <td>NaN</td>\n",
              "      <td>0.006229</td>\n",
              "      <td>1.260504</td>\n",
              "      <td>1951</td>\n",
              "      <td>1</td>\n",
              "      <td>0</td>\n",
              "      <td>0</td>\n",
              "      <td>0</td>\n",
              "      <td>0</td>\n",
              "    </tr>\n",
              "    <tr>\n",
              "      <th>1951-01-09</th>\n",
              "      <td>21.120001</td>\n",
              "      <td>21.120001</td>\n",
              "      <td>21.120001</td>\n",
              "      <td>21.120001</td>\n",
              "      <td>3800000.0</td>\n",
              "      <td>21.120001</td>\n",
              "      <td>20.840001</td>\n",
              "      <td>19.961667</td>\n",
              "      <td>NaN</td>\n",
              "      <td>0.005714</td>\n",
              "      <td>1.267707</td>\n",
              "      <td>1951</td>\n",
              "      <td>0</td>\n",
              "      <td>1</td>\n",
              "      <td>0</td>\n",
              "      <td>0</td>\n",
              "      <td>0</td>\n",
              "    </tr>\n",
              "  </tbody>\n",
              "</table>\n",
              "</div>"
            ],
            "text/plain": [
              "                 Open       High        Low      Close  ...  1  2  3  4\n",
              "Date                                                    ...            \n",
              "1951-01-03  20.690001  20.690001  20.690001  20.690001  ...  0  1  0  0\n",
              "1951-01-04  20.870001  20.870001  20.870001  20.870001  ...  0  0  1  0\n",
              "1951-01-05  20.870001  20.870001  20.870001  20.870001  ...  0  0  0  1\n",
              "1951-01-08  21.000000  21.000000  21.000000  21.000000  ...  0  0  0  0\n",
              "1951-01-09  21.120001  21.120001  21.120001  21.120001  ...  1  0  0  0\n",
              "\n",
              "[5 rows x 17 columns]"
            ]
          },
          "metadata": {
            "tags": []
          },
          "execution_count": 74
        }
      ]
    },
    {
      "cell_type": "code",
      "metadata": {
        "colab": {
          "base_uri": "https://localhost:8080/",
          "height": 223
        },
        "id": "cUDFweelpLYw",
        "outputId": "d70db44e-70b1-4d3f-9e99-2f5879e1c1a8"
      },
      "source": [
        "train.head()"
      ],
      "execution_count": null,
      "outputs": [
        {
          "output_type": "execute_result",
          "data": {
            "text/html": [
              "<div>\n",
              "<style scoped>\n",
              "    .dataframe tbody tr th:only-of-type {\n",
              "        vertical-align: middle;\n",
              "    }\n",
              "\n",
              "    .dataframe tbody tr th {\n",
              "        vertical-align: top;\n",
              "    }\n",
              "\n",
              "    .dataframe thead th {\n",
              "        text-align: right;\n",
              "    }\n",
              "</style>\n",
              "<table border=\"1\" class=\"dataframe\">\n",
              "  <thead>\n",
              "    <tr style=\"text-align: right;\">\n",
              "      <th></th>\n",
              "      <th>Open</th>\n",
              "      <th>High</th>\n",
              "      <th>Low</th>\n",
              "      <th>Close</th>\n",
              "      <th>Volume</th>\n",
              "      <th>Adj Close</th>\n",
              "      <th>MA 5 Close</th>\n",
              "      <th>MA 30 Close</th>\n",
              "      <th>MA 365 Close</th>\n",
              "      <th>return</th>\n",
              "      <th>cumulative_return</th>\n",
              "      <th>Year</th>\n",
              "      <th>0</th>\n",
              "      <th>1</th>\n",
              "      <th>2</th>\n",
              "      <th>3</th>\n",
              "      <th>4</th>\n",
              "    </tr>\n",
              "    <tr>\n",
              "      <th>Date</th>\n",
              "      <th></th>\n",
              "      <th></th>\n",
              "      <th></th>\n",
              "      <th></th>\n",
              "      <th></th>\n",
              "      <th></th>\n",
              "      <th></th>\n",
              "      <th></th>\n",
              "      <th></th>\n",
              "      <th></th>\n",
              "      <th></th>\n",
              "      <th></th>\n",
              "      <th></th>\n",
              "      <th></th>\n",
              "      <th></th>\n",
              "      <th></th>\n",
              "      <th></th>\n",
              "    </tr>\n",
              "  </thead>\n",
              "  <tbody>\n",
              "    <tr>\n",
              "      <th>1951-01-03</th>\n",
              "      <td>20.690001</td>\n",
              "      <td>20.690001</td>\n",
              "      <td>20.690001</td>\n",
              "      <td>20.690001</td>\n",
              "      <td>3370000.0</td>\n",
              "      <td>20.690001</td>\n",
              "      <td>20.360000</td>\n",
              "      <td>19.842666</td>\n",
              "      <td>NaN</td>\n",
              "      <td>-0.003852</td>\n",
              "      <td>1.241897</td>\n",
              "      <td>1951</td>\n",
              "      <td>0</td>\n",
              "      <td>0</td>\n",
              "      <td>1</td>\n",
              "      <td>0</td>\n",
              "      <td>0</td>\n",
              "    </tr>\n",
              "    <tr>\n",
              "      <th>1951-01-04</th>\n",
              "      <td>20.870001</td>\n",
              "      <td>20.870001</td>\n",
              "      <td>20.870001</td>\n",
              "      <td>20.870001</td>\n",
              "      <td>3390000.0</td>\n",
              "      <td>20.870001</td>\n",
              "      <td>20.514000</td>\n",
              "      <td>19.874000</td>\n",
              "      <td>NaN</td>\n",
              "      <td>0.008700</td>\n",
              "      <td>1.252701</td>\n",
              "      <td>1951</td>\n",
              "      <td>0</td>\n",
              "      <td>0</td>\n",
              "      <td>0</td>\n",
              "      <td>1</td>\n",
              "      <td>0</td>\n",
              "    </tr>\n",
              "    <tr>\n",
              "      <th>1951-01-05</th>\n",
              "      <td>20.870001</td>\n",
              "      <td>20.870001</td>\n",
              "      <td>20.870001</td>\n",
              "      <td>20.870001</td>\n",
              "      <td>3390000.0</td>\n",
              "      <td>20.870001</td>\n",
              "      <td>20.628000</td>\n",
              "      <td>19.907000</td>\n",
              "      <td>NaN</td>\n",
              "      <td>0.000000</td>\n",
              "      <td>1.252701</td>\n",
              "      <td>1951</td>\n",
              "      <td>0</td>\n",
              "      <td>0</td>\n",
              "      <td>0</td>\n",
              "      <td>0</td>\n",
              "      <td>1</td>\n",
              "    </tr>\n",
              "    <tr>\n",
              "      <th>1951-01-08</th>\n",
              "      <td>21.000000</td>\n",
              "      <td>21.000000</td>\n",
              "      <td>21.000000</td>\n",
              "      <td>21.000000</td>\n",
              "      <td>2780000.0</td>\n",
              "      <td>21.000000</td>\n",
              "      <td>20.726001</td>\n",
              "      <td>19.935000</td>\n",
              "      <td>NaN</td>\n",
              "      <td>0.006229</td>\n",
              "      <td>1.260504</td>\n",
              "      <td>1951</td>\n",
              "      <td>1</td>\n",
              "      <td>0</td>\n",
              "      <td>0</td>\n",
              "      <td>0</td>\n",
              "      <td>0</td>\n",
              "    </tr>\n",
              "    <tr>\n",
              "      <th>1951-01-09</th>\n",
              "      <td>21.120001</td>\n",
              "      <td>21.120001</td>\n",
              "      <td>21.120001</td>\n",
              "      <td>21.120001</td>\n",
              "      <td>3800000.0</td>\n",
              "      <td>21.120001</td>\n",
              "      <td>20.840001</td>\n",
              "      <td>19.961667</td>\n",
              "      <td>NaN</td>\n",
              "      <td>0.005714</td>\n",
              "      <td>1.267707</td>\n",
              "      <td>1951</td>\n",
              "      <td>0</td>\n",
              "      <td>1</td>\n",
              "      <td>0</td>\n",
              "      <td>0</td>\n",
              "      <td>0</td>\n",
              "    </tr>\n",
              "  </tbody>\n",
              "</table>\n",
              "</div>"
            ],
            "text/plain": [
              "                 Open       High        Low      Close  ...  1  2  3  4\n",
              "Date                                                    ...            \n",
              "1951-01-03  20.690001  20.690001  20.690001  20.690001  ...  0  1  0  0\n",
              "1951-01-04  20.870001  20.870001  20.870001  20.870001  ...  0  0  1  0\n",
              "1951-01-05  20.870001  20.870001  20.870001  20.870001  ...  0  0  0  1\n",
              "1951-01-08  21.000000  21.000000  21.000000  21.000000  ...  0  0  0  0\n",
              "1951-01-09  21.120001  21.120001  21.120001  21.120001  ...  1  0  0  0\n",
              "\n",
              "[5 rows x 17 columns]"
            ]
          },
          "metadata": {
            "tags": []
          },
          "execution_count": 75
        }
      ]
    },
    {
      "cell_type": "code",
      "metadata": {
        "id": "5OmW77jEqVZ5"
      },
      "source": [
        ""
      ],
      "execution_count": null,
      "outputs": []
    },
    {
      "cell_type": "code",
      "metadata": {
        "colab": {
          "base_uri": "https://localhost:8080/"
        },
        "id": "kUdDltimO5Dx",
        "outputId": "c3edc1d9-c4bc-4c9a-84ab-e7ae7f780658"
      },
      "source": [
        "# mesure de l'erreur avec MAE\n",
        "\n",
        "from sklearn import preprocessing\n",
        "from sklearn.linear_model import LinearRegression\n",
        "from sklearn.metrics import mean_absolute_error\n",
        "\n",
        "features = ['MA 5 Close', 'Year', 0, 1, 2 , 3 , 4]\n",
        "\n",
        "lr = LinearRegression()\n",
        "lr.fit(train[features], train['Close'])\n",
        "pred = lr.predict(test[features])\n",
        "\n",
        "mae = mean_absolute_error(test['Close'], pred)\n",
        "\n",
        "print(df.tail(1))\n",
        "print(mae)"
      ],
      "execution_count": null,
      "outputs": [
        {
          "output_type": "stream",
          "text": [
            "                   Open         High          Low        Close  ...  1  2  3  4\n",
            "Date                                                            ...            \n",
            "2015-12-07  2090.419922  2090.419922  2066.780029  2077.070068  ...  0  0  0  0\n",
            "\n",
            "[1 rows x 17 columns]\n",
            "16.335641055959265\n"
          ],
          "name": "stdout"
        }
      ]
    },
    {
      "cell_type": "code",
      "metadata": {
        "colab": {
          "base_uri": "https://localhost:8080/",
          "height": 223
        },
        "id": "alRX5fp0qGKF",
        "outputId": "1eb9e901-258e-4e24-be17-74457927fae3"
      },
      "source": [
        "predicted = pd.DataFrame(pred, index = test.index, columns=['Predicted'])\n",
        "predicted.head()"
      ],
      "execution_count": null,
      "outputs": [
        {
          "output_type": "execute_result",
          "data": {
            "text/html": [
              "<div>\n",
              "<style scoped>\n",
              "    .dataframe tbody tr th:only-of-type {\n",
              "        vertical-align: middle;\n",
              "    }\n",
              "\n",
              "    .dataframe tbody tr th {\n",
              "        vertical-align: top;\n",
              "    }\n",
              "\n",
              "    .dataframe thead th {\n",
              "        text-align: right;\n",
              "    }\n",
              "</style>\n",
              "<table border=\"1\" class=\"dataframe\">\n",
              "  <thead>\n",
              "    <tr style=\"text-align: right;\">\n",
              "      <th></th>\n",
              "      <th>Predicted</th>\n",
              "    </tr>\n",
              "    <tr>\n",
              "      <th>Date</th>\n",
              "      <th></th>\n",
              "    </tr>\n",
              "  </thead>\n",
              "  <tbody>\n",
              "    <tr>\n",
              "      <th>2013-01-02</th>\n",
              "      <td>1419.139304</td>\n",
              "    </tr>\n",
              "    <tr>\n",
              "      <th>2013-01-03</th>\n",
              "      <td>1426.296905</td>\n",
              "    </tr>\n",
              "    <tr>\n",
              "      <th>2013-01-04</th>\n",
              "      <td>1434.084841</td>\n",
              "    </tr>\n",
              "    <tr>\n",
              "      <th>2013-01-07</th>\n",
              "      <td>1443.737523</td>\n",
              "    </tr>\n",
              "    <tr>\n",
              "      <th>2013-01-08</th>\n",
              "      <td>1455.703206</td>\n",
              "    </tr>\n",
              "  </tbody>\n",
              "</table>\n",
              "</div>"
            ],
            "text/plain": [
              "              Predicted\n",
              "Date                   \n",
              "2013-01-02  1419.139304\n",
              "2013-01-03  1426.296905\n",
              "2013-01-04  1434.084841\n",
              "2013-01-07  1443.737523\n",
              "2013-01-08  1455.703206"
            ]
          },
          "metadata": {
            "tags": []
          },
          "execution_count": 79
        }
      ]
    },
    {
      "cell_type": "code",
      "metadata": {
        "colab": {
          "base_uri": "https://localhost:8080/",
          "height": 223
        },
        "id": "u6-d9zKlrP-E",
        "outputId": "49dda5cc-f5f6-4b1b-bb60-58187f2db346"
      },
      "source": [
        "predicted = pd.concat([predicted, test['Close']], axis=1)\n",
        "predicted.head()"
      ],
      "execution_count": null,
      "outputs": [
        {
          "output_type": "execute_result",
          "data": {
            "text/html": [
              "<div>\n",
              "<style scoped>\n",
              "    .dataframe tbody tr th:only-of-type {\n",
              "        vertical-align: middle;\n",
              "    }\n",
              "\n",
              "    .dataframe tbody tr th {\n",
              "        vertical-align: top;\n",
              "    }\n",
              "\n",
              "    .dataframe thead th {\n",
              "        text-align: right;\n",
              "    }\n",
              "</style>\n",
              "<table border=\"1\" class=\"dataframe\">\n",
              "  <thead>\n",
              "    <tr style=\"text-align: right;\">\n",
              "      <th></th>\n",
              "      <th>Predicted</th>\n",
              "      <th>Close</th>\n",
              "    </tr>\n",
              "    <tr>\n",
              "      <th>Date</th>\n",
              "      <th></th>\n",
              "      <th></th>\n",
              "    </tr>\n",
              "  </thead>\n",
              "  <tbody>\n",
              "    <tr>\n",
              "      <th>2013-01-02</th>\n",
              "      <td>1419.139304</td>\n",
              "      <td>1462.420044</td>\n",
              "    </tr>\n",
              "    <tr>\n",
              "      <th>2013-01-03</th>\n",
              "      <td>1426.296905</td>\n",
              "      <td>1459.369995</td>\n",
              "    </tr>\n",
              "    <tr>\n",
              "      <th>2013-01-04</th>\n",
              "      <td>1434.084841</td>\n",
              "      <td>1466.469971</td>\n",
              "    </tr>\n",
              "    <tr>\n",
              "      <th>2013-01-07</th>\n",
              "      <td>1443.737523</td>\n",
              "      <td>1461.890015</td>\n",
              "    </tr>\n",
              "    <tr>\n",
              "      <th>2013-01-08</th>\n",
              "      <td>1455.703206</td>\n",
              "      <td>1457.150024</td>\n",
              "    </tr>\n",
              "  </tbody>\n",
              "</table>\n",
              "</div>"
            ],
            "text/plain": [
              "              Predicted        Close\n",
              "Date                                \n",
              "2013-01-02  1419.139304  1462.420044\n",
              "2013-01-03  1426.296905  1459.369995\n",
              "2013-01-04  1434.084841  1466.469971\n",
              "2013-01-07  1443.737523  1461.890015\n",
              "2013-01-08  1455.703206  1457.150024"
            ]
          },
          "metadata": {
            "tags": []
          },
          "execution_count": 80
        }
      ]
    },
    {
      "cell_type": "code",
      "metadata": {
        "colab": {
          "base_uri": "https://localhost:8080/",
          "height": 571
        },
        "id": "tYLwMOA5rLQP",
        "outputId": "2b7627fc-7e2d-4fb5-ae15-8a02d29ef930"
      },
      "source": [
        "predicted[['Predicted', 'Close']].plot(figsize = (16, 10));"
      ],
      "execution_count": null,
      "outputs": [
        {
          "output_type": "display_data",
          "data": {
            "image/png": "[encoded data removed]",
            "text/plain": [
              "<Figure size 1152x720 with 1 Axes>"
            ]
          },
          "metadata": {
            "tags": [],
            "needs_background": "light"
          }
        }
      ]
    },
    {
      "cell_type": "markdown",
      "metadata": {
        "id": "HksAbXdBGuKB"
      },
      "source": [
        "# Améliorer le modèle"
      ]
    },
    {
      "cell_type": "code",
      "metadata": {
        "id": "I3qtn2M9rpDI"
      },
      "source": [
        "df['5 day High'] = df['High'].rolling(5).mean().shift(1)\n",
        "df['5 day Low']  = df['Low'].rolling(5).mean().shift(1)\n",
        "df['5 day Volume'] = df['Volume'].rolling(5).mean().shift(1)\n",
        "df['5 day Open'] = df['Open'].rolling(5).mean().shift(1)"
      ],
      "execution_count": null,
      "outputs": []
    },
    {
      "cell_type": "code",
      "metadata": {
        "id": "r448OoJBIDD9"
      },
      "source": [
        "df.dropna(axis=0, inplace = True)"
      ],
      "execution_count": null,
      "outputs": []
    },
    {
      "cell_type": "code",
      "metadata": {
        "colab": {
          "base_uri": "https://localhost:8080/"
        },
        "id": "N10Z2n28Gyc-",
        "outputId": "84d79a2e-8180-48a3-a91d-e9fc607d18e6"
      },
      "source": [
        "train = df.loc[:'2013-01-01']\n",
        "test = df.loc['2013-01-01':]\n",
        "print('Longeur du train:',len(train))\n",
        "print('Longeur du test:',len(test))"
      ],
      "execution_count": null,
      "outputs": [
        {
          "output_type": "stream",
          "text": [
            "Longeur du train: 15487\n",
            "Longeur du test: 739\n"
          ],
          "name": "stdout"
        }
      ]
    },
    {
      "cell_type": "code",
      "metadata": {
        "colab": {
          "base_uri": "https://localhost:8080/"
        },
        "id": "qXkXjyCOrOt7",
        "outputId": "60c1dc1a-f1f0-443d-e5d0-f41597185385"
      },
      "source": [
        "features = ['5 day High', '5 day Low', '5 day Volume','5 day Open', 'Year', 0, 1, 2, 3, 4]\n",
        "lr = LinearRegression()\n",
        "lr.fit(train[features], train['Close'])\n",
        "pred = lr.predict(test[features])\n",
        "mae = mean_absolute_error(test['Close'], pred)\n",
        "print('Le score du modèle amélioré', mae)\n"
      ],
      "execution_count": null,
      "outputs": [
        {
          "output_type": "stream",
          "text": [
            "Le score du modèle amélioré 14.602229853263538\n"
          ],
          "name": "stdout"
        }
      ]
    },
    {
      "cell_type": "code",
      "metadata": {
        "colab": {
          "base_uri": "https://localhost:8080/",
          "height": 223
        },
        "id": "elh-gW_iGQnM",
        "outputId": "0e34c198-d64b-489c-8cce-7e7425caab2f"
      },
      "source": [
        "predicted = pd.DataFrame( {'predicted': pred , 'Actual' : test['Close']})\n",
        "predicted.head()"
      ],
      "execution_count": null,
      "outputs": [
        {
          "output_type": "execute_result",
          "data": {
            "text/html": [
              "<div>\n",
              "<style scoped>\n",
              "    .dataframe tbody tr th:only-of-type {\n",
              "        vertical-align: middle;\n",
              "    }\n",
              "\n",
              "    .dataframe tbody tr th {\n",
              "        vertical-align: top;\n",
              "    }\n",
              "\n",
              "    .dataframe thead th {\n",
              "        text-align: right;\n",
              "    }\n",
              "</style>\n",
              "<table border=\"1\" class=\"dataframe\">\n",
              "  <thead>\n",
              "    <tr style=\"text-align: right;\">\n",
              "      <th></th>\n",
              "      <th>predicted</th>\n",
              "      <th>Actual</th>\n",
              "    </tr>\n",
              "    <tr>\n",
              "      <th>Date</th>\n",
              "      <th></th>\n",
              "      <th></th>\n",
              "    </tr>\n",
              "  </thead>\n",
              "  <tbody>\n",
              "    <tr>\n",
              "      <th>2013-01-02</th>\n",
              "      <td>1409.294695</td>\n",
              "      <td>1462.420044</td>\n",
              "    </tr>\n",
              "    <tr>\n",
              "      <th>2013-01-03</th>\n",
              "      <td>1429.902006</td>\n",
              "      <td>1459.369995</td>\n",
              "    </tr>\n",
              "    <tr>\n",
              "      <th>2013-01-04</th>\n",
              "      <td>1438.455821</td>\n",
              "      <td>1466.469971</td>\n",
              "    </tr>\n",
              "    <tr>\n",
              "      <th>2013-01-07</th>\n",
              "      <td>1456.820645</td>\n",
              "      <td>1461.890015</td>\n",
              "    </tr>\n",
              "    <tr>\n",
              "      <th>2013-01-08</th>\n",
              "      <td>1469.353900</td>\n",
              "      <td>1457.150024</td>\n",
              "    </tr>\n",
              "  </tbody>\n",
              "</table>\n",
              "</div>"
            ],
            "text/plain": [
              "              predicted       Actual\n",
              "Date                                \n",
              "2013-01-02  1409.294695  1462.420044\n",
              "2013-01-03  1429.902006  1459.369995\n",
              "2013-01-04  1438.455821  1466.469971\n",
              "2013-01-07  1456.820645  1461.890015\n",
              "2013-01-08  1469.353900  1457.150024"
            ]
          },
          "metadata": {
            "tags": []
          },
          "execution_count": 97
        }
      ]
    },
    {
      "cell_type": "code",
      "metadata": {
        "colab": {
          "base_uri": "https://localhost:8080/",
          "height": 571
        },
        "id": "weqPmUQeSqSM",
        "outputId": "162b3743-86d5-4bc5-a638-c0fbfa19e057"
      },
      "source": [
        "predicted[['predicted', 'Actual']].plot(figsize = (16, 10));"
      ],
      "execution_count": null,
      "outputs": [
        {
          "output_type": "display_data",
          "data": {
            "image/png": "[encoded data removed]",
            "text/plain": [
              "<Figure size 1152x720 with 1 Axes>"
            ]
          },
          "metadata": {
            "tags": [],
            "needs_background": "light"
          }
        }
      ]
    },
    {
      "cell_type": "markdown",
      "metadata": {
        "id": "bs5EhHWGS6xJ"
      },
      "source": [
        "# Piste d'amélioration du modèle"
      ]
    },
    {
      "cell_type": "code",
      "metadata": {
        "id": "7j9mqb-GSxcf"
      },
      "source": [
        "# Random Forest\n",
        "# météo externe à NY\n",
        "# volume d'activité Tweeter\n",
        "# récuperer en temps réel les données à chaque heure de fermeture\n",
        "# prédiction horaire, par minute\n",
        "# prédiction individiuelle au lieu de l'indice"
      ],
      "execution_count": null,
      "outputs": []
    },
    {
      "cell_type": "code",
      "metadata": {
        "id": "Ha8oGg7WSpSR"
      },
      "source": [
        ""
      ],
      "execution_count": null,
      "outputs": []
    },
    {
      "cell_type": "code",
      "metadata": {
        "id": "6pYbNp5dq7V8"
      },
      "source": [
        ""
      ],
      "execution_count": null,
      "outputs": []
    },
    {
      "cell_type": "code",
      "metadata": {
        "id": "y4DZil6dMZDf"
      },
      "source": [
        ""
      ],
      "execution_count": null,
      "outputs": []
    },
    {
      "cell_type": "code",
      "metadata": {
        "id": "EFOWLnwtLHZ1"
      },
      "source": [
        ""
      ],
      "execution_count": null,
      "outputs": []
    },
    {
      "cell_type": "code",
      "metadata": {
        "id": "IMXsWCsqvnwo"
      },
      "source": [
        ""
      ],
      "execution_count": null,
      "outputs": []
    },
    {
      "cell_type": "code",
      "metadata": {
        "id": "Hc2MTu2BrO_7"
      },
      "source": [
        ""
      ],
      "execution_count": null,
      "outputs": []
    },
    {
      "cell_type": "code",
      "metadata": {
        "id": "pMe_tYnyrMEB"
      },
      "source": [
        ""
      ],
      "execution_count": null,
      "outputs": []
    },
    {
      "cell_type": "code",
      "metadata": {
        "id": "IEOSxLN1q-th"
      },
      "source": [
        ""
      ],
      "execution_count": null,
      "outputs": []
    },
    {
      "cell_type": "code",
      "metadata": {
        "id": "NkjIusEzqxmQ"
      },
      "source": [
        ""
      ],
      "execution_count": null,
      "outputs": []
    },
    {
      "cell_type": "code",
      "metadata": {
        "id": "Z-2w6gMUqosS"
      },
      "source": [
        ""
      ],
      "execution_count": null,
      "outputs": []
    },
    {
      "cell_type": "code",
      "metadata": {
        "id": "A23Ad7DFpqM_"
      },
      "source": [
        ""
      ],
      "execution_count": null,
      "outputs": []
    },
    {
      "cell_type": "code",
      "metadata": {
        "id": "t0zRu7gepjXI"
      },
      "source": [
        ""
      ],
      "execution_count": null,
      "outputs": []
    },
    {
      "cell_type": "code",
      "metadata": {
        "id": "tWTKTdympAQ9"
      },
      "source": [
        ""
      ],
      "execution_count": null,
      "outputs": []
    },
    {
      "cell_type": "code",
      "metadata": {
        "id": "7clorLrzo0BR"
      },
      "source": [
        ""
      ],
      "execution_count": null,
      "outputs": []
    },
    {
      "cell_type": "code",
      "metadata": {
        "id": "bI1p6Tkson0_"
      },
      "source": [
        ""
      ],
      "execution_count": null,
      "outputs": []
    },
    {
      "cell_type": "code",
      "metadata": {
        "id": "AMoSAOUDokDJ"
      },
      "source": [
        ""
      ],
      "execution_count": null,
      "outputs": []
    },
    {
      "cell_type": "code",
      "metadata": {
        "id": "Uum4KqmyohSq"
      },
      "source": [
        ""
      ],
      "execution_count": null,
      "outputs": []
    },
    {
      "cell_type": "code",
      "metadata": {
        "id": "Js9VWYMmlLIh"
      },
      "source": [
        ""
      ],
      "execution_count": null,
      "outputs": []
    },
    {
      "cell_type": "code",
      "metadata": {
        "id": "WOdp_wpClHXd"
      },
      "source": [
        ""
      ],
      "execution_count": null,
      "outputs": []
    },
    {
      "cell_type": "code",
      "metadata": {
        "id": "rddF65eAlE0g"
      },
      "source": [
        ""
      ],
      "execution_count": null,
      "outputs": []
    },
    {
      "cell_type": "code",
      "metadata": {
        "id": "VWKOtKySk7Z7"
      },
      "source": [
        ""
      ],
      "execution_count": null,
      "outputs": []
    }
  ]
}